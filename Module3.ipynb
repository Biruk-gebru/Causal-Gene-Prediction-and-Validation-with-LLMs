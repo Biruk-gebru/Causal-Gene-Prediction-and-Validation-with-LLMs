{
  "cells": [
    {
      "cell_type": "markdown",
      "metadata": {
        "id": "view-in-github",
        "colab_type": "text"
      },
      "source": [
        "<a href=\"https://colab.research.google.com/github/Biruk-gebru/Causal-Gene-Prediction-and-Validation-with-LLMs/blob/main/Module3.ipynb\" target=\"_parent\"><img src=\"https://colab.research.google.com/assets/colab-badge.svg\" alt=\"Open In Colab\"/></a>"
      ]
    },
    {
      "cell_type": "code",
      "execution_count": 1,
      "metadata": {
        "colab": {
          "base_uri": "https://localhost:8080/"
        },
        "id": "gClvIVBQ6Y6j",
        "outputId": "7bf31980-c82b-400b-f0d1-30981d1a4def"
      },
      "outputs": [
        {
          "output_type": "stream",
          "name": "stdout",
          "text": [
            "Requirement already satisfied: requests in /usr/local/lib/python3.11/dist-packages (2.32.3)\n",
            "Requirement already satisfied: pandas in /usr/local/lib/python3.11/dist-packages (2.2.2)\n",
            "Collecting biopython\n",
            "  Downloading biopython-1.85-cp311-cp311-manylinux_2_17_x86_64.manylinux2014_x86_64.whl.metadata (13 kB)\n",
            "Collecting goatools\n",
            "  Downloading goatools-1.4.12-py3-none-any.whl.metadata (14 kB)\n",
            "Requirement already satisfied: charset-normalizer<4,>=2 in /usr/local/lib/python3.11/dist-packages (from requests) (3.4.2)\n",
            "Requirement already satisfied: idna<4,>=2.5 in /usr/local/lib/python3.11/dist-packages (from requests) (3.10)\n",
            "Requirement already satisfied: urllib3<3,>=1.21.1 in /usr/local/lib/python3.11/dist-packages (from requests) (2.4.0)\n",
            "Requirement already satisfied: certifi>=2017.4.17 in /usr/local/lib/python3.11/dist-packages (from requests) (2025.4.26)\n",
            "Requirement already satisfied: numpy>=1.23.2 in /usr/local/lib/python3.11/dist-packages (from pandas) (2.0.2)\n",
            "Requirement already satisfied: python-dateutil>=2.8.2 in /usr/local/lib/python3.11/dist-packages (from pandas) (2.9.0.post0)\n",
            "Requirement already satisfied: pytz>=2020.1 in /usr/local/lib/python3.11/dist-packages (from pandas) (2025.2)\n",
            "Requirement already satisfied: tzdata>=2022.7 in /usr/local/lib/python3.11/dist-packages (from pandas) (2025.2)\n",
            "Collecting docopt (from goatools)\n",
            "  Downloading docopt-0.6.2.tar.gz (25 kB)\n",
            "  Preparing metadata (setup.py) ... \u001b[?25l\u001b[?25hdone\n",
            "Collecting ftpretty (from goatools)\n",
            "  Downloading ftpretty-0.4.0-py2.py3-none-any.whl.metadata (6.6 kB)\n",
            "Requirement already satisfied: openpyxl in /usr/local/lib/python3.11/dist-packages (from goatools) (3.1.5)\n",
            "Requirement already satisfied: pydot in /usr/local/lib/python3.11/dist-packages (from goatools) (3.0.4)\n",
            "Requirement already satisfied: rich in /usr/local/lib/python3.11/dist-packages (from goatools) (13.9.4)\n",
            "Requirement already satisfied: scipy in /usr/local/lib/python3.11/dist-packages (from goatools) (1.15.3)\n",
            "Requirement already satisfied: setuptools in /usr/local/lib/python3.11/dist-packages (from goatools) (75.2.0)\n",
            "Requirement already satisfied: statsmodels in /usr/local/lib/python3.11/dist-packages (from goatools) (0.14.4)\n",
            "Collecting xlsxwriter (from goatools)\n",
            "  Downloading XlsxWriter-3.2.3-py3-none-any.whl.metadata (2.7 kB)\n",
            "Requirement already satisfied: six>=1.5 in /usr/local/lib/python3.11/dist-packages (from python-dateutil>=2.8.2->pandas) (1.17.0)\n",
            "Requirement already satisfied: et-xmlfile in /usr/local/lib/python3.11/dist-packages (from openpyxl->goatools) (2.0.0)\n",
            "Requirement already satisfied: pyparsing>=3.0.9 in /usr/local/lib/python3.11/dist-packages (from pydot->goatools) (3.2.3)\n",
            "Requirement already satisfied: markdown-it-py>=2.2.0 in /usr/local/lib/python3.11/dist-packages (from rich->goatools) (3.0.0)\n",
            "Requirement already satisfied: pygments<3.0.0,>=2.13.0 in /usr/local/lib/python3.11/dist-packages (from rich->goatools) (2.19.1)\n",
            "Requirement already satisfied: patsy>=0.5.6 in /usr/local/lib/python3.11/dist-packages (from statsmodels->goatools) (1.0.1)\n",
            "Requirement already satisfied: packaging>=21.3 in /usr/local/lib/python3.11/dist-packages (from statsmodels->goatools) (24.2)\n",
            "Requirement already satisfied: mdurl~=0.1 in /usr/local/lib/python3.11/dist-packages (from markdown-it-py>=2.2.0->rich->goatools) (0.1.2)\n",
            "Downloading biopython-1.85-cp311-cp311-manylinux_2_17_x86_64.manylinux2014_x86_64.whl (3.3 MB)\n",
            "\u001b[2K   \u001b[90m━━━━━━━━━━━━━━━━━━━━━━━━━━━━━━━━━━━━━━━━\u001b[0m \u001b[32m3.3/3.3 MB\u001b[0m \u001b[31m32.1 MB/s\u001b[0m eta \u001b[36m0:00:00\u001b[0m\n",
            "\u001b[?25hDownloading goatools-1.4.12-py3-none-any.whl (15.8 MB)\n",
            "\u001b[2K   \u001b[90m━━━━━━━━━━━━━━━━━━━━━━━━━━━━━━━━━━━━━━━━\u001b[0m \u001b[32m15.8/15.8 MB\u001b[0m \u001b[31m63.8 MB/s\u001b[0m eta \u001b[36m0:00:00\u001b[0m\n",
            "\u001b[?25hDownloading ftpretty-0.4.0-py2.py3-none-any.whl (8.2 kB)\n",
            "Downloading XlsxWriter-3.2.3-py3-none-any.whl (169 kB)\n",
            "\u001b[2K   \u001b[90m━━━━━━━━━━━━━━━━━━━━━━━━━━━━━━━━━━━━━━━━\u001b[0m \u001b[32m169.4/169.4 kB\u001b[0m \u001b[31m12.4 MB/s\u001b[0m eta \u001b[36m0:00:00\u001b[0m\n",
            "\u001b[?25hBuilding wheels for collected packages: docopt\n",
            "  Building wheel for docopt (setup.py) ... \u001b[?25l\u001b[?25hdone\n",
            "  Created wheel for docopt: filename=docopt-0.6.2-py2.py3-none-any.whl size=13706 sha256=6caa84b92e28f7f4967fb02cecf153c687d7d4e29852069a575a3670d97d74bf\n",
            "  Stored in directory: /root/.cache/pip/wheels/1a/b0/8c/4b75c4116c31f83c8f9f047231251e13cc74481cca4a78a9ce\n",
            "Successfully built docopt\n",
            "Installing collected packages: docopt, xlsxwriter, biopython, ftpretty, goatools\n",
            "Successfully installed biopython-1.85 docopt-0.6.2 ftpretty-0.4.0 goatools-1.4.12 xlsxwriter-3.2.3\n"
          ]
        }
      ],
      "source": [
        "# Install necessary packages\n",
        "!pip install requests pandas biopython goatools\n"
      ]
    },
    {
      "cell_type": "code",
      "execution_count": 2,
      "metadata": {
        "colab": {
          "base_uri": "https://localhost:8080/",
          "height": 591
        },
        "id": "EoFS0wIZ6tee",
        "outputId": "df1943ca-cda1-45dc-9d3a-3a2b75b30b5e"
      },
      "outputs": [
        {
          "output_type": "stream",
          "name": "stdout",
          "text": [
            "✅ Successfully fetched gene data. Columns: ['Gene stable ID', 'Gene name', 'Gene description', 'Chromosome/scaffold name', 'Gene start (bp)', 'Gene end (bp)', 'Strand']\n"
          ]
        },
        {
          "output_type": "execute_result",
          "data": {
            "text/plain": [
              "   ensembl_gene_id gene_name  \\\n",
              "0  ENSG00000210049     MT-TF   \n",
              "1  ENSG00000211459   MT-RNR1   \n",
              "2  ENSG00000210077     MT-TV   \n",
              "3  ENSG00000210082   MT-RNR2   \n",
              "4  ENSG00000209082    MT-TL1   \n",
              "\n",
              "                                         description chromosome  start   end  \\\n",
              "0  mitochondrially encoded tRNA-Phe (UUU/C) [Sour...         MT    577   647   \n",
              "1  mitochondrially encoded 12S rRNA [Source:HGNC ...         MT    648  1601   \n",
              "2  mitochondrially encoded tRNA-Val (GUN) [Source...         MT   1602  1670   \n",
              "3  mitochondrially encoded 16S rRNA [Source:HGNC ...         MT   1671  3229   \n",
              "4  mitochondrially encoded tRNA-Leu (UUA/G) 1 [So...         MT   3230  3304   \n",
              "\n",
              "   strand  \n",
              "0       1  \n",
              "1       1  \n",
              "2       1  \n",
              "3       1  \n",
              "4       1  "
            ],
            "text/html": [
              "\n",
              "  <div id=\"df-0293ea6e-ba2e-4e8e-ac7a-949dc1eedcf7\" class=\"colab-df-container\">\n",
              "    <div>\n",
              "<style scoped>\n",
              "    .dataframe tbody tr th:only-of-type {\n",
              "        vertical-align: middle;\n",
              "    }\n",
              "\n",
              "    .dataframe tbody tr th {\n",
              "        vertical-align: top;\n",
              "    }\n",
              "\n",
              "    .dataframe thead th {\n",
              "        text-align: right;\n",
              "    }\n",
              "</style>\n",
              "<table border=\"1\" class=\"dataframe\">\n",
              "  <thead>\n",
              "    <tr style=\"text-align: right;\">\n",
              "      <th></th>\n",
              "      <th>ensembl_gene_id</th>\n",
              "      <th>gene_name</th>\n",
              "      <th>description</th>\n",
              "      <th>chromosome</th>\n",
              "      <th>start</th>\n",
              "      <th>end</th>\n",
              "      <th>strand</th>\n",
              "    </tr>\n",
              "  </thead>\n",
              "  <tbody>\n",
              "    <tr>\n",
              "      <th>0</th>\n",
              "      <td>ENSG00000210049</td>\n",
              "      <td>MT-TF</td>\n",
              "      <td>mitochondrially encoded tRNA-Phe (UUU/C) [Sour...</td>\n",
              "      <td>MT</td>\n",
              "      <td>577</td>\n",
              "      <td>647</td>\n",
              "      <td>1</td>\n",
              "    </tr>\n",
              "    <tr>\n",
              "      <th>1</th>\n",
              "      <td>ENSG00000211459</td>\n",
              "      <td>MT-RNR1</td>\n",
              "      <td>mitochondrially encoded 12S rRNA [Source:HGNC ...</td>\n",
              "      <td>MT</td>\n",
              "      <td>648</td>\n",
              "      <td>1601</td>\n",
              "      <td>1</td>\n",
              "    </tr>\n",
              "    <tr>\n",
              "      <th>2</th>\n",
              "      <td>ENSG00000210077</td>\n",
              "      <td>MT-TV</td>\n",
              "      <td>mitochondrially encoded tRNA-Val (GUN) [Source...</td>\n",
              "      <td>MT</td>\n",
              "      <td>1602</td>\n",
              "      <td>1670</td>\n",
              "      <td>1</td>\n",
              "    </tr>\n",
              "    <tr>\n",
              "      <th>3</th>\n",
              "      <td>ENSG00000210082</td>\n",
              "      <td>MT-RNR2</td>\n",
              "      <td>mitochondrially encoded 16S rRNA [Source:HGNC ...</td>\n",
              "      <td>MT</td>\n",
              "      <td>1671</td>\n",
              "      <td>3229</td>\n",
              "      <td>1</td>\n",
              "    </tr>\n",
              "    <tr>\n",
              "      <th>4</th>\n",
              "      <td>ENSG00000209082</td>\n",
              "      <td>MT-TL1</td>\n",
              "      <td>mitochondrially encoded tRNA-Leu (UUA/G) 1 [So...</td>\n",
              "      <td>MT</td>\n",
              "      <td>3230</td>\n",
              "      <td>3304</td>\n",
              "      <td>1</td>\n",
              "    </tr>\n",
              "  </tbody>\n",
              "</table>\n",
              "</div>\n",
              "    <div class=\"colab-df-buttons\">\n",
              "\n",
              "  <div class=\"colab-df-container\">\n",
              "    <button class=\"colab-df-convert\" onclick=\"convertToInteractive('df-0293ea6e-ba2e-4e8e-ac7a-949dc1eedcf7')\"\n",
              "            title=\"Convert this dataframe to an interactive table.\"\n",
              "            style=\"display:none;\">\n",
              "\n",
              "  <svg xmlns=\"http://www.w3.org/2000/svg\" height=\"24px\" viewBox=\"0 -960 960 960\">\n",
              "    <path d=\"M120-120v-720h720v720H120Zm60-500h600v-160H180v160Zm220 220h160v-160H400v160Zm0 220h160v-160H400v160ZM180-400h160v-160H180v160Zm440 0h160v-160H620v160ZM180-180h160v-160H180v160Zm440 0h160v-160H620v160Z\"/>\n",
              "  </svg>\n",
              "    </button>\n",
              "\n",
              "  <style>\n",
              "    .colab-df-container {\n",
              "      display:flex;\n",
              "      gap: 12px;\n",
              "    }\n",
              "\n",
              "    .colab-df-convert {\n",
              "      background-color: #E8F0FE;\n",
              "      border: none;\n",
              "      border-radius: 50%;\n",
              "      cursor: pointer;\n",
              "      display: none;\n",
              "      fill: #1967D2;\n",
              "      height: 32px;\n",
              "      padding: 0 0 0 0;\n",
              "      width: 32px;\n",
              "    }\n",
              "\n",
              "    .colab-df-convert:hover {\n",
              "      background-color: #E2EBFA;\n",
              "      box-shadow: 0px 1px 2px rgba(60, 64, 67, 0.3), 0px 1px 3px 1px rgba(60, 64, 67, 0.15);\n",
              "      fill: #174EA6;\n",
              "    }\n",
              "\n",
              "    .colab-df-buttons div {\n",
              "      margin-bottom: 4px;\n",
              "    }\n",
              "\n",
              "    [theme=dark] .colab-df-convert {\n",
              "      background-color: #3B4455;\n",
              "      fill: #D2E3FC;\n",
              "    }\n",
              "\n",
              "    [theme=dark] .colab-df-convert:hover {\n",
              "      background-color: #434B5C;\n",
              "      box-shadow: 0px 1px 3px 1px rgba(0, 0, 0, 0.15);\n",
              "      filter: drop-shadow(0px 1px 2px rgba(0, 0, 0, 0.3));\n",
              "      fill: #FFFFFF;\n",
              "    }\n",
              "  </style>\n",
              "\n",
              "    <script>\n",
              "      const buttonEl =\n",
              "        document.querySelector('#df-0293ea6e-ba2e-4e8e-ac7a-949dc1eedcf7 button.colab-df-convert');\n",
              "      buttonEl.style.display =\n",
              "        google.colab.kernel.accessAllowed ? 'block' : 'none';\n",
              "\n",
              "      async function convertToInteractive(key) {\n",
              "        const element = document.querySelector('#df-0293ea6e-ba2e-4e8e-ac7a-949dc1eedcf7');\n",
              "        const dataTable =\n",
              "          await google.colab.kernel.invokeFunction('convertToInteractive',\n",
              "                                                    [key], {});\n",
              "        if (!dataTable) return;\n",
              "\n",
              "        const docLinkHtml = 'Like what you see? Visit the ' +\n",
              "          '<a target=\"_blank\" href=https://colab.research.google.com/notebooks/data_table.ipynb>data table notebook</a>'\n",
              "          + ' to learn more about interactive tables.';\n",
              "        element.innerHTML = '';\n",
              "        dataTable['output_type'] = 'display_data';\n",
              "        await google.colab.output.renderOutput(dataTable, element);\n",
              "        const docLink = document.createElement('div');\n",
              "        docLink.innerHTML = docLinkHtml;\n",
              "        element.appendChild(docLink);\n",
              "      }\n",
              "    </script>\n",
              "  </div>\n",
              "\n",
              "\n",
              "    <div id=\"df-689e4f2b-be35-44dd-a219-c5b8cfe69318\">\n",
              "      <button class=\"colab-df-quickchart\" onclick=\"quickchart('df-689e4f2b-be35-44dd-a219-c5b8cfe69318')\"\n",
              "                title=\"Suggest charts\"\n",
              "                style=\"display:none;\">\n",
              "\n",
              "<svg xmlns=\"http://www.w3.org/2000/svg\" height=\"24px\"viewBox=\"0 0 24 24\"\n",
              "     width=\"24px\">\n",
              "    <g>\n",
              "        <path d=\"M19 3H5c-1.1 0-2 .9-2 2v14c0 1.1.9 2 2 2h14c1.1 0 2-.9 2-2V5c0-1.1-.9-2-2-2zM9 17H7v-7h2v7zm4 0h-2V7h2v10zm4 0h-2v-4h2v4z\"/>\n",
              "    </g>\n",
              "</svg>\n",
              "      </button>\n",
              "\n",
              "<style>\n",
              "  .colab-df-quickchart {\n",
              "      --bg-color: #E8F0FE;\n",
              "      --fill-color: #1967D2;\n",
              "      --hover-bg-color: #E2EBFA;\n",
              "      --hover-fill-color: #174EA6;\n",
              "      --disabled-fill-color: #AAA;\n",
              "      --disabled-bg-color: #DDD;\n",
              "  }\n",
              "\n",
              "  [theme=dark] .colab-df-quickchart {\n",
              "      --bg-color: #3B4455;\n",
              "      --fill-color: #D2E3FC;\n",
              "      --hover-bg-color: #434B5C;\n",
              "      --hover-fill-color: #FFFFFF;\n",
              "      --disabled-bg-color: #3B4455;\n",
              "      --disabled-fill-color: #666;\n",
              "  }\n",
              "\n",
              "  .colab-df-quickchart {\n",
              "    background-color: var(--bg-color);\n",
              "    border: none;\n",
              "    border-radius: 50%;\n",
              "    cursor: pointer;\n",
              "    display: none;\n",
              "    fill: var(--fill-color);\n",
              "    height: 32px;\n",
              "    padding: 0;\n",
              "    width: 32px;\n",
              "  }\n",
              "\n",
              "  .colab-df-quickchart:hover {\n",
              "    background-color: var(--hover-bg-color);\n",
              "    box-shadow: 0 1px 2px rgba(60, 64, 67, 0.3), 0 1px 3px 1px rgba(60, 64, 67, 0.15);\n",
              "    fill: var(--button-hover-fill-color);\n",
              "  }\n",
              "\n",
              "  .colab-df-quickchart-complete:disabled,\n",
              "  .colab-df-quickchart-complete:disabled:hover {\n",
              "    background-color: var(--disabled-bg-color);\n",
              "    fill: var(--disabled-fill-color);\n",
              "    box-shadow: none;\n",
              "  }\n",
              "\n",
              "  .colab-df-spinner {\n",
              "    border: 2px solid var(--fill-color);\n",
              "    border-color: transparent;\n",
              "    border-bottom-color: var(--fill-color);\n",
              "    animation:\n",
              "      spin 1s steps(1) infinite;\n",
              "  }\n",
              "\n",
              "  @keyframes spin {\n",
              "    0% {\n",
              "      border-color: transparent;\n",
              "      border-bottom-color: var(--fill-color);\n",
              "      border-left-color: var(--fill-color);\n",
              "    }\n",
              "    20% {\n",
              "      border-color: transparent;\n",
              "      border-left-color: var(--fill-color);\n",
              "      border-top-color: var(--fill-color);\n",
              "    }\n",
              "    30% {\n",
              "      border-color: transparent;\n",
              "      border-left-color: var(--fill-color);\n",
              "      border-top-color: var(--fill-color);\n",
              "      border-right-color: var(--fill-color);\n",
              "    }\n",
              "    40% {\n",
              "      border-color: transparent;\n",
              "      border-right-color: var(--fill-color);\n",
              "      border-top-color: var(--fill-color);\n",
              "    }\n",
              "    60% {\n",
              "      border-color: transparent;\n",
              "      border-right-color: var(--fill-color);\n",
              "    }\n",
              "    80% {\n",
              "      border-color: transparent;\n",
              "      border-right-color: var(--fill-color);\n",
              "      border-bottom-color: var(--fill-color);\n",
              "    }\n",
              "    90% {\n",
              "      border-color: transparent;\n",
              "      border-bottom-color: var(--fill-color);\n",
              "    }\n",
              "  }\n",
              "</style>\n",
              "\n",
              "      <script>\n",
              "        async function quickchart(key) {\n",
              "          const quickchartButtonEl =\n",
              "            document.querySelector('#' + key + ' button');\n",
              "          quickchartButtonEl.disabled = true;  // To prevent multiple clicks.\n",
              "          quickchartButtonEl.classList.add('colab-df-spinner');\n",
              "          try {\n",
              "            const charts = await google.colab.kernel.invokeFunction(\n",
              "                'suggestCharts', [key], {});\n",
              "          } catch (error) {\n",
              "            console.error('Error during call to suggestCharts:', error);\n",
              "          }\n",
              "          quickchartButtonEl.classList.remove('colab-df-spinner');\n",
              "          quickchartButtonEl.classList.add('colab-df-quickchart-complete');\n",
              "        }\n",
              "        (() => {\n",
              "          let quickchartButtonEl =\n",
              "            document.querySelector('#df-689e4f2b-be35-44dd-a219-c5b8cfe69318 button');\n",
              "          quickchartButtonEl.style.display =\n",
              "            google.colab.kernel.accessAllowed ? 'block' : 'none';\n",
              "        })();\n",
              "      </script>\n",
              "    </div>\n",
              "\n",
              "    </div>\n",
              "  </div>\n"
            ],
            "application/vnd.google.colaboratory.intrinsic+json": {
              "type": "dataframe",
              "variable_name": "df",
              "summary": "{\n  \"name\": \"df\",\n  \"rows\": 86364,\n  \"fields\": [\n    {\n      \"column\": \"ensembl_gene_id\",\n      \"properties\": {\n        \"dtype\": \"string\",\n        \"num_unique_values\": 86364,\n        \"samples\": [\n          \"ENSG00000105135\",\n          \"ENSG00000296646\",\n          \"ENSG00000250942\"\n        ],\n        \"semantic_type\": \"\",\n        \"description\": \"\"\n      }\n    },\n    {\n      \"column\": \"gene_name\",\n      \"properties\": {\n        \"dtype\": \"category\",\n        \"num_unique_values\": 41164,\n        \"samples\": [\n          \"KANSL1\",\n          \"RPL39P31\",\n          \"PPP2R2B\"\n        ],\n        \"semantic_type\": \"\",\n        \"description\": \"\"\n      }\n    },\n    {\n      \"column\": \"description\",\n      \"properties\": {\n        \"dtype\": \"string\",\n        \"num_unique_values\": 51096,\n        \"samples\": [\n          \"dynamin 1 pseudogene 41 [Source:HGNC Symbol;Acc:HGNC:35191]\",\n          \"novel transcript, antisense to TSGA13\",\n          \"nucleophosmin 1 pseudogene 18 [Source:HGNC Symbol;Acc:HGNC:7920]\"\n        ],\n        \"semantic_type\": \"\",\n        \"description\": \"\"\n      }\n    },\n    {\n      \"column\": \"chromosome\",\n      \"properties\": {\n        \"dtype\": \"category\",\n        \"num_unique_values\": 528,\n        \"samples\": [\n          \"HG2217_PATCH\",\n          \"HSCHR2_3_CTG7_2\",\n          \"GL000009.2\"\n        ],\n        \"semantic_type\": \"\",\n        \"description\": \"\"\n      }\n    },\n    {\n      \"column\": \"start\",\n      \"properties\": {\n        \"dtype\": \"number\",\n        \"std\": 57332543,\n        \"min\": 1,\n        \"max\": 248936581,\n        \"num_unique_values\": 85809,\n        \"samples\": [\n          136726747,\n          99936610,\n          9515\n        ],\n        \"semantic_type\": \"\",\n        \"description\": \"\"\n      }\n    },\n    {\n      \"column\": \"end\",\n      \"properties\": {\n        \"dtype\": \"number\",\n        \"std\": 57336705,\n        \"min\": 107,\n        \"max\": 248937105,\n        \"num_unique_values\": 85803,\n        \"samples\": [\n          6692,\n          223776018,\n          180861285\n        ],\n        \"semantic_type\": \"\",\n        \"description\": \"\"\n      }\n    },\n    {\n      \"column\": \"strand\",\n      \"properties\": {\n        \"dtype\": \"number\",\n        \"std\": 0,\n        \"min\": -1,\n        \"max\": 1,\n        \"num_unique_values\": 2,\n        \"samples\": [\n          -1,\n          1\n        ],\n        \"semantic_type\": \"\",\n        \"description\": \"\"\n      }\n    }\n  ]\n}"
            }
          },
          "metadata": {},
          "execution_count": 2
        }
      ],
      "source": [
        "import requests\n",
        "import pandas as pd\n",
        "from io import StringIO\n",
        "\n",
        "# FIXED: No leading newline before <?xml ...\n",
        "biomart_query = '''<?xml version=\"1.0\" encoding=\"UTF-8\"?>\n",
        "<!DOCTYPE Query>\n",
        "<Query virtualSchemaName = \"default\" formatter = \"TSV\" header = \"1\" uniqueRows = \"1\" count = \"\" datasetConfigVersion = \"0.6\" >\n",
        "    <Dataset name = \"hsapiens_gene_ensembl\" interface = \"default\" >\n",
        "        <Attribute name = \"ensembl_gene_id\" />\n",
        "        <Attribute name = \"external_gene_name\" />\n",
        "        <Attribute name = \"description\" />\n",
        "        <Attribute name = \"chromosome_name\" />\n",
        "        <Attribute name = \"start_position\" />\n",
        "        <Attribute name = \"end_position\" />\n",
        "        <Attribute name = \"strand\" />\n",
        "    </Dataset>\n",
        "</Query>\n",
        "'''\n",
        "\n",
        "# Request data from BioMart\n",
        "response = requests.post(\"https://www.ensembl.org/biomart/martservice\", data={\"query\": biomart_query})\n",
        "response.raise_for_status()\n",
        "\n",
        "# Load into DataFrame\n",
        "df = pd.read_csv(StringIO(response.text), sep='\\t')\n",
        "print(\"✅ Successfully fetched gene data. Columns:\", df.columns.tolist())\n",
        "\n",
        "# Rename columns for clarity\n",
        "df.columns = [\n",
        "    'ensembl_gene_id',\n",
        "    'gene_name',\n",
        "    'description',\n",
        "    'chromosome',\n",
        "    'start',\n",
        "    'end',\n",
        "    'strand'\n",
        "]\n",
        "\n",
        "# Display sample\n",
        "df.head()\n"
      ]
    },
    {
      "cell_type": "code",
      "execution_count": 3,
      "metadata": {
        "colab": {
          "base_uri": "https://localhost:8080/",
          "height": 467
        },
        "id": "dEHZoth169LE",
        "outputId": "b6c40e52-440f-4985-adc9-6b1d59e6e301"
      },
      "outputs": [
        {
          "output_type": "stream",
          "name": "stdout",
          "text": [
            "✅ HGNC data loaded successfully!\n",
            "['hgnc_id', 'symbol', 'name', 'locus_group', 'locus_type', 'status', 'location', 'location_sortable', 'alias_symbol', 'alias_name', 'prev_symbol', 'prev_name', 'gene_group', 'gene_group_id', 'date_approved_reserved', 'date_symbol_changed', 'date_name_changed', 'date_modified', 'entrez_id', 'ensembl_gene_id', 'vega_id', 'ucsc_id', 'ena', 'refseq_accession', 'ccds_id', 'uniprot_ids', 'pubmed_id', 'mgd_id', 'rgd_id', 'lsdb', 'cosmic', 'omim_id', 'mirbase', 'homeodb', 'snornabase', 'bioparadigms_slc', 'orphanet', 'pseudogene.org', 'horde_id', 'merops', 'imgt', 'iuphar', 'kznf_gene_catalog', 'mamit-trnadb', 'cd', 'lncrnadb', 'enzyme_id', 'intermediate_filament_db', 'rna_central_id', 'lncipedia', 'gtrnadb', 'agr', 'mane_select', 'gencc']\n"
          ]
        },
        {
          "output_type": "stream",
          "name": "stderr",
          "text": [
            "<ipython-input-3-f338bf9daa4d>:13: DtypeWarning: Columns (32,34,38,40,50) have mixed types. Specify dtype option on import or set low_memory=False.\n",
            "  hgnc_df = pd.read_csv(StringIO(response.text), sep=\"\\t\")\n"
          ]
        },
        {
          "output_type": "execute_result",
          "data": {
            "text/plain": [
              "      hgnc_id    symbol                            name          locus_group  \\\n",
              "0      HGNC:5      A1BG          alpha-1-B glycoprotein  protein-coding gene   \n",
              "1  HGNC:37133  A1BG-AS1            A1BG antisense RNA 1       non-coding RNA   \n",
              "2  HGNC:24086      A1CF  APOBEC1 complementation factor  protein-coding gene   \n",
              "3      HGNC:7       A2M           alpha-2-macroglobulin  protein-coding gene   \n",
              "4  HGNC:27057   A2M-AS1             A2M antisense RNA 1       non-coding RNA   \n",
              "\n",
              "                  locus_type    status  location location_sortable  \\\n",
              "0  gene with protein product  Approved  19q13.43          19q13.43   \n",
              "1       RNA, long non-coding  Approved  19q13.43          19q13.43   \n",
              "2  gene with protein product  Approved  10q11.23          10q11.23   \n",
              "3  gene with protein product  Approved  12p13.31          12p13.31   \n",
              "4       RNA, long non-coding  Approved  12p13.31          12p13.31   \n",
              "\n",
              "                    alias_symbol alias_name  ...   cd lncrnadb enzyme_id  \\\n",
              "0                            NaN        NaN  ...  NaN      NaN       NaN   \n",
              "1                       FLJ23569        NaN  ...  NaN      NaN       NaN   \n",
              "2  ACF|ASP|ACF64|ACF65|APOBEC1CF        NaN  ...  NaN      NaN       NaN   \n",
              "3           FWP007|S863-7|CPAMD5        NaN  ...  NaN      NaN       NaN   \n",
              "4                            NaN        NaN  ...  NaN      NaN       NaN   \n",
              "\n",
              "  intermediate_filament_db rna_central_id lncipedia gtrnadb         agr  \\\n",
              "0                      NaN            NaN       NaN     NaN      HGNC:5   \n",
              "1                      NaN  URS00007E4F6E  A1BG-AS1     NaN  HGNC:37133   \n",
              "2                      NaN            NaN       NaN     NaN  HGNC:24086   \n",
              "3                      NaN            NaN       NaN     NaN      HGNC:7   \n",
              "4                      NaN  URS00001F234A   A2M-AS1     NaN  HGNC:27057   \n",
              "\n",
              "                      mane_select   gencc  \n",
              "0   ENST00000263100.8|NM_130786.4     NaN  \n",
              "1                             NaN     NaN  \n",
              "2   ENST00000373997.8|NM_014576.4     NaN  \n",
              "3  ENST00000318602.12|NM_000014.6  HGNC:7  \n",
              "4                             NaN     NaN  \n",
              "\n",
              "[5 rows x 54 columns]"
            ],
            "text/html": [
              "\n",
              "  <div id=\"df-3a04f09f-e55f-47a2-831d-71aecb5da247\" class=\"colab-df-container\">\n",
              "    <div>\n",
              "<style scoped>\n",
              "    .dataframe tbody tr th:only-of-type {\n",
              "        vertical-align: middle;\n",
              "    }\n",
              "\n",
              "    .dataframe tbody tr th {\n",
              "        vertical-align: top;\n",
              "    }\n",
              "\n",
              "    .dataframe thead th {\n",
              "        text-align: right;\n",
              "    }\n",
              "</style>\n",
              "<table border=\"1\" class=\"dataframe\">\n",
              "  <thead>\n",
              "    <tr style=\"text-align: right;\">\n",
              "      <th></th>\n",
              "      <th>hgnc_id</th>\n",
              "      <th>symbol</th>\n",
              "      <th>name</th>\n",
              "      <th>locus_group</th>\n",
              "      <th>locus_type</th>\n",
              "      <th>status</th>\n",
              "      <th>location</th>\n",
              "      <th>location_sortable</th>\n",
              "      <th>alias_symbol</th>\n",
              "      <th>alias_name</th>\n",
              "      <th>...</th>\n",
              "      <th>cd</th>\n",
              "      <th>lncrnadb</th>\n",
              "      <th>enzyme_id</th>\n",
              "      <th>intermediate_filament_db</th>\n",
              "      <th>rna_central_id</th>\n",
              "      <th>lncipedia</th>\n",
              "      <th>gtrnadb</th>\n",
              "      <th>agr</th>\n",
              "      <th>mane_select</th>\n",
              "      <th>gencc</th>\n",
              "    </tr>\n",
              "  </thead>\n",
              "  <tbody>\n",
              "    <tr>\n",
              "      <th>0</th>\n",
              "      <td>HGNC:5</td>\n",
              "      <td>A1BG</td>\n",
              "      <td>alpha-1-B glycoprotein</td>\n",
              "      <td>protein-coding gene</td>\n",
              "      <td>gene with protein product</td>\n",
              "      <td>Approved</td>\n",
              "      <td>19q13.43</td>\n",
              "      <td>19q13.43</td>\n",
              "      <td>NaN</td>\n",
              "      <td>NaN</td>\n",
              "      <td>...</td>\n",
              "      <td>NaN</td>\n",
              "      <td>NaN</td>\n",
              "      <td>NaN</td>\n",
              "      <td>NaN</td>\n",
              "      <td>NaN</td>\n",
              "      <td>NaN</td>\n",
              "      <td>NaN</td>\n",
              "      <td>HGNC:5</td>\n",
              "      <td>ENST00000263100.8|NM_130786.4</td>\n",
              "      <td>NaN</td>\n",
              "    </tr>\n",
              "    <tr>\n",
              "      <th>1</th>\n",
              "      <td>HGNC:37133</td>\n",
              "      <td>A1BG-AS1</td>\n",
              "      <td>A1BG antisense RNA 1</td>\n",
              "      <td>non-coding RNA</td>\n",
              "      <td>RNA, long non-coding</td>\n",
              "      <td>Approved</td>\n",
              "      <td>19q13.43</td>\n",
              "      <td>19q13.43</td>\n",
              "      <td>FLJ23569</td>\n",
              "      <td>NaN</td>\n",
              "      <td>...</td>\n",
              "      <td>NaN</td>\n",
              "      <td>NaN</td>\n",
              "      <td>NaN</td>\n",
              "      <td>NaN</td>\n",
              "      <td>URS00007E4F6E</td>\n",
              "      <td>A1BG-AS1</td>\n",
              "      <td>NaN</td>\n",
              "      <td>HGNC:37133</td>\n",
              "      <td>NaN</td>\n",
              "      <td>NaN</td>\n",
              "    </tr>\n",
              "    <tr>\n",
              "      <th>2</th>\n",
              "      <td>HGNC:24086</td>\n",
              "      <td>A1CF</td>\n",
              "      <td>APOBEC1 complementation factor</td>\n",
              "      <td>protein-coding gene</td>\n",
              "      <td>gene with protein product</td>\n",
              "      <td>Approved</td>\n",
              "      <td>10q11.23</td>\n",
              "      <td>10q11.23</td>\n",
              "      <td>ACF|ASP|ACF64|ACF65|APOBEC1CF</td>\n",
              "      <td>NaN</td>\n",
              "      <td>...</td>\n",
              "      <td>NaN</td>\n",
              "      <td>NaN</td>\n",
              "      <td>NaN</td>\n",
              "      <td>NaN</td>\n",
              "      <td>NaN</td>\n",
              "      <td>NaN</td>\n",
              "      <td>NaN</td>\n",
              "      <td>HGNC:24086</td>\n",
              "      <td>ENST00000373997.8|NM_014576.4</td>\n",
              "      <td>NaN</td>\n",
              "    </tr>\n",
              "    <tr>\n",
              "      <th>3</th>\n",
              "      <td>HGNC:7</td>\n",
              "      <td>A2M</td>\n",
              "      <td>alpha-2-macroglobulin</td>\n",
              "      <td>protein-coding gene</td>\n",
              "      <td>gene with protein product</td>\n",
              "      <td>Approved</td>\n",
              "      <td>12p13.31</td>\n",
              "      <td>12p13.31</td>\n",
              "      <td>FWP007|S863-7|CPAMD5</td>\n",
              "      <td>NaN</td>\n",
              "      <td>...</td>\n",
              "      <td>NaN</td>\n",
              "      <td>NaN</td>\n",
              "      <td>NaN</td>\n",
              "      <td>NaN</td>\n",
              "      <td>NaN</td>\n",
              "      <td>NaN</td>\n",
              "      <td>NaN</td>\n",
              "      <td>HGNC:7</td>\n",
              "      <td>ENST00000318602.12|NM_000014.6</td>\n",
              "      <td>HGNC:7</td>\n",
              "    </tr>\n",
              "    <tr>\n",
              "      <th>4</th>\n",
              "      <td>HGNC:27057</td>\n",
              "      <td>A2M-AS1</td>\n",
              "      <td>A2M antisense RNA 1</td>\n",
              "      <td>non-coding RNA</td>\n",
              "      <td>RNA, long non-coding</td>\n",
              "      <td>Approved</td>\n",
              "      <td>12p13.31</td>\n",
              "      <td>12p13.31</td>\n",
              "      <td>NaN</td>\n",
              "      <td>NaN</td>\n",
              "      <td>...</td>\n",
              "      <td>NaN</td>\n",
              "      <td>NaN</td>\n",
              "      <td>NaN</td>\n",
              "      <td>NaN</td>\n",
              "      <td>URS00001F234A</td>\n",
              "      <td>A2M-AS1</td>\n",
              "      <td>NaN</td>\n",
              "      <td>HGNC:27057</td>\n",
              "      <td>NaN</td>\n",
              "      <td>NaN</td>\n",
              "    </tr>\n",
              "  </tbody>\n",
              "</table>\n",
              "<p>5 rows × 54 columns</p>\n",
              "</div>\n",
              "    <div class=\"colab-df-buttons\">\n",
              "\n",
              "  <div class=\"colab-df-container\">\n",
              "    <button class=\"colab-df-convert\" onclick=\"convertToInteractive('df-3a04f09f-e55f-47a2-831d-71aecb5da247')\"\n",
              "            title=\"Convert this dataframe to an interactive table.\"\n",
              "            style=\"display:none;\">\n",
              "\n",
              "  <svg xmlns=\"http://www.w3.org/2000/svg\" height=\"24px\" viewBox=\"0 -960 960 960\">\n",
              "    <path d=\"M120-120v-720h720v720H120Zm60-500h600v-160H180v160Zm220 220h160v-160H400v160Zm0 220h160v-160H400v160ZM180-400h160v-160H180v160Zm440 0h160v-160H620v160ZM180-180h160v-160H180v160Zm440 0h160v-160H620v160Z\"/>\n",
              "  </svg>\n",
              "    </button>\n",
              "\n",
              "  <style>\n",
              "    .colab-df-container {\n",
              "      display:flex;\n",
              "      gap: 12px;\n",
              "    }\n",
              "\n",
              "    .colab-df-convert {\n",
              "      background-color: #E8F0FE;\n",
              "      border: none;\n",
              "      border-radius: 50%;\n",
              "      cursor: pointer;\n",
              "      display: none;\n",
              "      fill: #1967D2;\n",
              "      height: 32px;\n",
              "      padding: 0 0 0 0;\n",
              "      width: 32px;\n",
              "    }\n",
              "\n",
              "    .colab-df-convert:hover {\n",
              "      background-color: #E2EBFA;\n",
              "      box-shadow: 0px 1px 2px rgba(60, 64, 67, 0.3), 0px 1px 3px 1px rgba(60, 64, 67, 0.15);\n",
              "      fill: #174EA6;\n",
              "    }\n",
              "\n",
              "    .colab-df-buttons div {\n",
              "      margin-bottom: 4px;\n",
              "    }\n",
              "\n",
              "    [theme=dark] .colab-df-convert {\n",
              "      background-color: #3B4455;\n",
              "      fill: #D2E3FC;\n",
              "    }\n",
              "\n",
              "    [theme=dark] .colab-df-convert:hover {\n",
              "      background-color: #434B5C;\n",
              "      box-shadow: 0px 1px 3px 1px rgba(0, 0, 0, 0.15);\n",
              "      filter: drop-shadow(0px 1px 2px rgba(0, 0, 0, 0.3));\n",
              "      fill: #FFFFFF;\n",
              "    }\n",
              "  </style>\n",
              "\n",
              "    <script>\n",
              "      const buttonEl =\n",
              "        document.querySelector('#df-3a04f09f-e55f-47a2-831d-71aecb5da247 button.colab-df-convert');\n",
              "      buttonEl.style.display =\n",
              "        google.colab.kernel.accessAllowed ? 'block' : 'none';\n",
              "\n",
              "      async function convertToInteractive(key) {\n",
              "        const element = document.querySelector('#df-3a04f09f-e55f-47a2-831d-71aecb5da247');\n",
              "        const dataTable =\n",
              "          await google.colab.kernel.invokeFunction('convertToInteractive',\n",
              "                                                    [key], {});\n",
              "        if (!dataTable) return;\n",
              "\n",
              "        const docLinkHtml = 'Like what you see? Visit the ' +\n",
              "          '<a target=\"_blank\" href=https://colab.research.google.com/notebooks/data_table.ipynb>data table notebook</a>'\n",
              "          + ' to learn more about interactive tables.';\n",
              "        element.innerHTML = '';\n",
              "        dataTable['output_type'] = 'display_data';\n",
              "        await google.colab.output.renderOutput(dataTable, element);\n",
              "        const docLink = document.createElement('div');\n",
              "        docLink.innerHTML = docLinkHtml;\n",
              "        element.appendChild(docLink);\n",
              "      }\n",
              "    </script>\n",
              "  </div>\n",
              "\n",
              "\n",
              "    <div id=\"df-91814b56-5e39-4404-9cd2-94b11d0e283d\">\n",
              "      <button class=\"colab-df-quickchart\" onclick=\"quickchart('df-91814b56-5e39-4404-9cd2-94b11d0e283d')\"\n",
              "                title=\"Suggest charts\"\n",
              "                style=\"display:none;\">\n",
              "\n",
              "<svg xmlns=\"http://www.w3.org/2000/svg\" height=\"24px\"viewBox=\"0 0 24 24\"\n",
              "     width=\"24px\">\n",
              "    <g>\n",
              "        <path d=\"M19 3H5c-1.1 0-2 .9-2 2v14c0 1.1.9 2 2 2h14c1.1 0 2-.9 2-2V5c0-1.1-.9-2-2-2zM9 17H7v-7h2v7zm4 0h-2V7h2v10zm4 0h-2v-4h2v4z\"/>\n",
              "    </g>\n",
              "</svg>\n",
              "      </button>\n",
              "\n",
              "<style>\n",
              "  .colab-df-quickchart {\n",
              "      --bg-color: #E8F0FE;\n",
              "      --fill-color: #1967D2;\n",
              "      --hover-bg-color: #E2EBFA;\n",
              "      --hover-fill-color: #174EA6;\n",
              "      --disabled-fill-color: #AAA;\n",
              "      --disabled-bg-color: #DDD;\n",
              "  }\n",
              "\n",
              "  [theme=dark] .colab-df-quickchart {\n",
              "      --bg-color: #3B4455;\n",
              "      --fill-color: #D2E3FC;\n",
              "      --hover-bg-color: #434B5C;\n",
              "      --hover-fill-color: #FFFFFF;\n",
              "      --disabled-bg-color: #3B4455;\n",
              "      --disabled-fill-color: #666;\n",
              "  }\n",
              "\n",
              "  .colab-df-quickchart {\n",
              "    background-color: var(--bg-color);\n",
              "    border: none;\n",
              "    border-radius: 50%;\n",
              "    cursor: pointer;\n",
              "    display: none;\n",
              "    fill: var(--fill-color);\n",
              "    height: 32px;\n",
              "    padding: 0;\n",
              "    width: 32px;\n",
              "  }\n",
              "\n",
              "  .colab-df-quickchart:hover {\n",
              "    background-color: var(--hover-bg-color);\n",
              "    box-shadow: 0 1px 2px rgba(60, 64, 67, 0.3), 0 1px 3px 1px rgba(60, 64, 67, 0.15);\n",
              "    fill: var(--button-hover-fill-color);\n",
              "  }\n",
              "\n",
              "  .colab-df-quickchart-complete:disabled,\n",
              "  .colab-df-quickchart-complete:disabled:hover {\n",
              "    background-color: var(--disabled-bg-color);\n",
              "    fill: var(--disabled-fill-color);\n",
              "    box-shadow: none;\n",
              "  }\n",
              "\n",
              "  .colab-df-spinner {\n",
              "    border: 2px solid var(--fill-color);\n",
              "    border-color: transparent;\n",
              "    border-bottom-color: var(--fill-color);\n",
              "    animation:\n",
              "      spin 1s steps(1) infinite;\n",
              "  }\n",
              "\n",
              "  @keyframes spin {\n",
              "    0% {\n",
              "      border-color: transparent;\n",
              "      border-bottom-color: var(--fill-color);\n",
              "      border-left-color: var(--fill-color);\n",
              "    }\n",
              "    20% {\n",
              "      border-color: transparent;\n",
              "      border-left-color: var(--fill-color);\n",
              "      border-top-color: var(--fill-color);\n",
              "    }\n",
              "    30% {\n",
              "      border-color: transparent;\n",
              "      border-left-color: var(--fill-color);\n",
              "      border-top-color: var(--fill-color);\n",
              "      border-right-color: var(--fill-color);\n",
              "    }\n",
              "    40% {\n",
              "      border-color: transparent;\n",
              "      border-right-color: var(--fill-color);\n",
              "      border-top-color: var(--fill-color);\n",
              "    }\n",
              "    60% {\n",
              "      border-color: transparent;\n",
              "      border-right-color: var(--fill-color);\n",
              "    }\n",
              "    80% {\n",
              "      border-color: transparent;\n",
              "      border-right-color: var(--fill-color);\n",
              "      border-bottom-color: var(--fill-color);\n",
              "    }\n",
              "    90% {\n",
              "      border-color: transparent;\n",
              "      border-bottom-color: var(--fill-color);\n",
              "    }\n",
              "  }\n",
              "</style>\n",
              "\n",
              "      <script>\n",
              "        async function quickchart(key) {\n",
              "          const quickchartButtonEl =\n",
              "            document.querySelector('#' + key + ' button');\n",
              "          quickchartButtonEl.disabled = true;  // To prevent multiple clicks.\n",
              "          quickchartButtonEl.classList.add('colab-df-spinner');\n",
              "          try {\n",
              "            const charts = await google.colab.kernel.invokeFunction(\n",
              "                'suggestCharts', [key], {});\n",
              "          } catch (error) {\n",
              "            console.error('Error during call to suggestCharts:', error);\n",
              "          }\n",
              "          quickchartButtonEl.classList.remove('colab-df-spinner');\n",
              "          quickchartButtonEl.classList.add('colab-df-quickchart-complete');\n",
              "        }\n",
              "        (() => {\n",
              "          let quickchartButtonEl =\n",
              "            document.querySelector('#df-91814b56-5e39-4404-9cd2-94b11d0e283d button');\n",
              "          quickchartButtonEl.style.display =\n",
              "            google.colab.kernel.accessAllowed ? 'block' : 'none';\n",
              "        })();\n",
              "      </script>\n",
              "    </div>\n",
              "\n",
              "    </div>\n",
              "  </div>\n"
            ],
            "application/vnd.google.colaboratory.intrinsic+json": {
              "type": "dataframe",
              "variable_name": "hgnc_df"
            }
          },
          "metadata": {},
          "execution_count": 3
        }
      ],
      "source": [
        "import pandas as pd\n",
        "import requests\n",
        "from io import StringIO\n",
        "\n",
        "# Updated HGNC TSV file URL\n",
        "url = \"https://storage.googleapis.com/public-download-files/hgnc/tsv/tsv/hgnc_complete_set.txt\"\n",
        "\n",
        "# Fetch the data\n",
        "response = requests.get(url)\n",
        "response.raise_for_status()  # Raise an error for bad status codes\n",
        "\n",
        "# Read the TSV content into a pandas DataFrame\n",
        "hgnc_df = pd.read_csv(StringIO(response.text), sep=\"\\t\")\n",
        "\n",
        "# Display the first few rows\n",
        "print(\"✅ HGNC data loaded successfully!\")\n",
        "print(hgnc_df.columns.tolist())\n",
        "hgnc_df.head()\n"
      ]
    },
    {
      "cell_type": "code",
      "execution_count": 4,
      "metadata": {
        "colab": {
          "base_uri": "https://localhost:8080/"
        },
        "id": "sT3-57Gk7z-9",
        "outputId": "4a2d3b6f-2dea-4c86-a552-e0763f846f65"
      },
      "outputs": [
        {
          "output_type": "stream",
          "name": "stdout",
          "text": [
            "✅ GOA data downloaded successfully.\n"
          ]
        }
      ],
      "source": [
        "import requests\n",
        "\n",
        "go_url = \"http://current.geneontology.org/annotations/goa_human.gaf.gz\"\n",
        "response = requests.get(go_url)\n",
        "with open(\"goa_human.gaf.gz\", \"wb\") as f:\n",
        "    f.write(response.content)\n",
        "print(\"✅ GOA data downloaded successfully.\")\n"
      ]
    },
    {
      "cell_type": "code",
      "execution_count": 5,
      "metadata": {
        "colab": {
          "base_uri": "https://localhost:8080/"
        },
        "id": "voli0E0n9xWD",
        "outputId": "1b4679ce-0c9d-43ee-b48f-2e13545e7bd2"
      },
      "outputs": [
        {
          "output_type": "stream",
          "name": "stdout",
          "text": [
            "✅ Parsed 969176 GO annotations.\n"
          ]
        }
      ],
      "source": [
        "import gzip\n",
        "\n",
        "go_annotations = []\n",
        "\n",
        "with gzip.open(\"goa_human.gaf.gz\", \"rt\") as f:\n",
        "    for line in f:\n",
        "        if line.startswith(\"!\"):\n",
        "            continue  # Skip header/comments\n",
        "        fields = line.strip().split('\\t')\n",
        "        if len(fields) > 6:\n",
        "            gene_symbol = fields[2]\n",
        "            go_term = fields[4]\n",
        "            evidence = fields[6]\n",
        "            go_annotations.append((gene_symbol, go_term, evidence))\n",
        "\n",
        "print(f\"✅ Parsed {len(go_annotations)} GO annotations.\")\n"
      ]
    },
    {
      "cell_type": "code",
      "execution_count": 6,
      "metadata": {
        "colab": {
          "base_uri": "https://localhost:8080/"
        },
        "id": "WW3wuNFL-kux",
        "outputId": "42530421-ccd6-41a6-c2d8-15077f31f18d"
      },
      "outputs": [
        {
          "output_type": "stream",
          "name": "stdout",
          "text": [
            "✅ Reactome pathways downloaded.\n"
          ]
        }
      ],
      "source": [
        "reactome_url = \"https://reactome.org/download/current/ReactomePathways.gmt.zip\"\n",
        "response = requests.get(reactome_url)\n",
        "\n",
        "with open(\"ReactomePathways.gmt.zip\", \"wb\") as f:\n",
        "    f.write(response.content)\n",
        "\n",
        "print(\"✅ Reactome pathways downloaded.\")\n"
      ]
    },
    {
      "cell_type": "code",
      "execution_count": 7,
      "metadata": {
        "colab": {
          "base_uri": "https://localhost:8080/"
        },
        "id": "mu3XfIGp-pAD",
        "outputId": "1eb038d2-3a7b-463c-d96a-a3990b285974"
      },
      "outputs": [
        {
          "output_type": "stream",
          "name": "stdout",
          "text": [
            "✅ Parsed 2751 Reactome pathways.\n"
          ]
        }
      ],
      "source": [
        "import zipfile\n",
        "\n",
        "with zipfile.ZipFile(\"ReactomePathways.gmt.zip\", \"r\") as zip_ref:\n",
        "    zip_ref.extractall(\"reactome_data\")\n",
        "\n",
        "# Parse GMT\n",
        "pathway_genes = {}\n",
        "\n",
        "with open(\"reactome_data/ReactomePathways.gmt\", \"r\") as f:\n",
        "    for line in f:\n",
        "        parts = line.strip().split(\"\\t\")\n",
        "        if len(parts) > 2:\n",
        "            pathway_name = parts[0]\n",
        "            genes = parts[2:]\n",
        "            pathway_genes[pathway_name] = genes\n",
        "\n",
        "print(f\"✅ Parsed {len(pathway_genes)} Reactome pathways.\")\n"
      ]
    },
    {
      "cell_type": "code",
      "execution_count": 8,
      "metadata": {
        "colab": {
          "base_uri": "https://localhost:8080/"
        },
        "id": "9leSy1Q6-uRE",
        "outputId": "d85cc986-af09-4d56-e735-ddee3e2fd421"
      },
      "outputs": [
        {
          "output_type": "stream",
          "name": "stdout",
          "text": [
            "✅ OpenTargets gene-trait evidence downloaded.\n"
          ]
        }
      ],
      "source": [
        "opentargets_url = \"https://ftp.ebi.ac.uk/pub/databases/opentargets/platform/23.09/output/etl/json/disease_to_gene_evidence.json.gz\"\n",
        "response = requests.get(opentargets_url)\n",
        "\n",
        "with open(\"disease_to_gene_evidence.json.gz\", \"wb\") as f:\n",
        "    f.write(response.content)\n",
        "\n",
        "print(\"✅ OpenTargets gene-trait evidence downloaded.\")\n"
      ]
    },
    {
      "cell_type": "code",
      "execution_count": 9,
      "metadata": {
        "colab": {
          "base_uri": "https://localhost:8080/"
        },
        "id": "F8WtdZ38-zbZ",
        "outputId": "eb4f1c69-4625-4557-a977-1727f1a42793"
      },
      "outputs": [
        {
          "output_type": "stream",
          "name": "stdout",
          "text": [
            "🧬 Total unique genes found: 45133\n"
          ]
        }
      ],
      "source": [
        "# Unique gene symbols from all sources\n",
        "genes_go = set([g for g, _, _ in go_annotations])\n",
        "genes_pathway = set(g for genes in pathway_genes.values() for g in genes)\n",
        "genes_all = sorted(list(genes_go.union(genes_pathway)))\n",
        "\n",
        "print(f\"🧬 Total unique genes found: {len(genes_all)}\")\n"
      ]
    },
    {
      "cell_type": "code",
      "execution_count": 10,
      "metadata": {
        "id": "anllGd33_Fns"
      },
      "outputs": [],
      "source": [
        "go_terms = sorted(list(set(go for _, go, _ in go_annotations)))\n",
        "go_term_to_idx = {go: idx for idx, go in enumerate(go_terms)}\n"
      ]
    },
    {
      "cell_type": "code",
      "execution_count": 11,
      "metadata": {
        "id": "01D4qL6ICDvq"
      },
      "outputs": [],
      "source": [
        "import numpy as np\n",
        "from collections import defaultdict\n",
        "\n",
        "# Create a mapping from gene to list of its GO terms\n",
        "gene_to_gos = defaultdict(list)\n",
        "for g, go, _ in go_annotations:\n",
        "    gene_to_gos[g].append(go)\n",
        "\n",
        "gene_to_go_vector = {}\n",
        "\n",
        "for gene in genes_all:\n",
        "    go_vec = np.zeros(len(go_terms), dtype=int)\n",
        "    for go in gene_to_gos.get(gene, []):\n",
        "        if go in go_term_to_idx:\n",
        "            go_vec[go_term_to_idx[go]] = 1\n",
        "    gene_to_go_vector[gene] = go_vec\n"
      ]
    },
    {
      "cell_type": "code",
      "execution_count": 12,
      "metadata": {
        "colab": {
          "base_uri": "https://localhost:8080/"
        },
        "id": "IKNitm-FCS5V",
        "outputId": "15dbc8a3-4f45-4210-9146-8f97dc390218"
      },
      "outputs": [
        {
          "output_type": "stream",
          "name": "stdout",
          "text": [
            "Number of genes: 45133\n",
            "Number of GO annotations: 969176\n",
            "Number of GO terms: 18902\n"
          ]
        }
      ],
      "source": [
        "print(f\"Number of genes: {len(genes_all)}\")\n",
        "print(f\"Number of GO annotations: {len(go_annotations)}\")\n",
        "print(f\"Number of GO terms: {len(go_terms)}\")\n"
      ]
    },
    {
      "cell_type": "code",
      "execution_count": 13,
      "metadata": {
        "id": "3lfKPNALCXp4"
      },
      "outputs": [],
      "source": [
        "import numpy as np\n",
        "from collections import defaultdict\n",
        "\n",
        "# Create a mapping from gene to list of its GO terms\n",
        "gene_to_gos = defaultdict(list)\n",
        "for g, go, _ in go_annotations:\n",
        "    gene_to_gos[g].append(go)\n",
        "\n",
        "gene_to_go_vector = {}\n",
        "\n",
        "for gene in genes_all:\n",
        "    go_vec = np.zeros(len(go_terms), dtype=int)\n",
        "    for go in gene_to_gos.get(gene, []):\n",
        "        if go in go_term_to_idx:\n",
        "            go_vec[go_term_to_idx[go]] = 1\n",
        "    gene_to_go_vector[gene] = go_vec\n"
      ]
    },
    {
      "cell_type": "code",
      "execution_count": 14,
      "metadata": {
        "colab": {
          "base_uri": "https://localhost:8080/"
        },
        "id": "vHyEmCH8EJ6F",
        "outputId": "1008083b-e50e-4f91-c1fa-19960782cd23"
      },
      "outputs": [
        {
          "output_type": "stream",
          "name": "stdout",
          "text": [
            "<class 'dict'> 2751\n",
            "<class 'list'> 45133\n"
          ]
        }
      ],
      "source": [
        "print(type(pathway_genes), len(pathway_genes))\n",
        "print(type(genes_all), len(genes_all))\n"
      ]
    },
    {
      "cell_type": "code",
      "execution_count": 15,
      "metadata": {
        "colab": {
          "base_uri": "https://localhost:8080/"
        },
        "id": "fc0V5RG7EOgj",
        "outputId": "0f66f8ad-43d8-4a30-fc7b-19906373ef1e"
      },
      "outputs": [
        {
          "output_type": "stream",
          "name": "stdout",
          "text": [
            "['2-LTR circle formation', '3-Methylcrotonyl-CoA carboxylase deficiency', '3-hydroxyisobutyryl-CoA hydrolase deficiency', '3-methylglutaconic aciduria', '5-Phosphoribose 1-diphosphate biosynthesis']\n",
            "[('2-LTR circle formation', 0), ('3-Methylcrotonyl-CoA carboxylase deficiency', 1), ('3-hydroxyisobutyryl-CoA hydrolase deficiency', 2), ('3-methylglutaconic aciduria', 3), ('5-Phosphoribose 1-diphosphate biosynthesis', 4)]\n",
            "(2751,)\n"
          ]
        }
      ],
      "source": [
        "pathway_names = sorted(list(pathway_genes.keys()))\n",
        "print(pathway_names[:5])  # just check first few pathways\n",
        "\n",
        "pathway_index = {p: i for i, p in enumerate(pathway_names)}\n",
        "print(list(pathway_index.items())[:5])\n",
        "\n",
        "gene = genes_all[0]\n",
        "vec = np.zeros(len(pathway_names))\n",
        "print(vec.shape)\n"
      ]
    },
    {
      "cell_type": "code",
      "execution_count": 16,
      "metadata": {
        "id": "47sNOcfDpzHn"
      },
      "outputs": [],
      "source": [
        "import zipfile\n",
        "\n",
        "pathway_genes = {}\n",
        "\n",
        "with zipfile.ZipFile(\"ReactomePathways.gmt.zip\", 'r') as z:\n",
        "    for filename in z.namelist():\n",
        "        with z.open(filename) as f:\n",
        "            for line in f:\n",
        "                parts = line.decode('utf-8').strip().split('\\t')\n",
        "                if len(parts) >= 3:\n",
        "                    pathway = parts[0]\n",
        "                    genes = set(parts[2:])  # skip pathway name and URL\n",
        "                    if pathway not in pathway_genes:\n",
        "                        pathway_genes[pathway] = genes\n"
      ]
    },
    {
      "cell_type": "code",
      "execution_count": 17,
      "metadata": {
        "colab": {
          "base_uri": "https://localhost:8080/"
        },
        "id": "L_YvS0VzEYRJ",
        "outputId": "98d1ce23-4e25-4f87-fd7f-92ca8cd6f389"
      },
      "outputs": [
        {
          "output_type": "stream",
          "name": "stdout",
          "text": [
            "✅ Created pathway vectors for 11727 genes.\n"
          ]
        }
      ],
      "source": [
        "import numpy as np\n",
        "\n",
        "# Collect all genes from the pathways\n",
        "genes_all = sorted({gene for genes in pathway_genes.values() for gene in genes})\n",
        "\n",
        "# Create index mappings\n",
        "pathway_names = sorted(list(pathway_genes.keys()))\n",
        "pathway_index = {p: i for i, p in enumerate(pathway_names)}\n",
        "\n",
        "# Create binary vector per gene\n",
        "gene_to_pathway_vector = {}\n",
        "\n",
        "for gene in genes_all:\n",
        "    vec = np.zeros(len(pathway_names))\n",
        "    for pathway, genes_in_pathway in pathway_genes.items():\n",
        "        if gene in genes_in_pathway:\n",
        "            vec[pathway_index[pathway]] = 1\n",
        "    gene_to_pathway_vector[gene] = vec\n",
        "\n",
        "print(f\"✅ Created pathway vectors for {len(gene_to_pathway_vector)} genes.\")\n"
      ]
    },
    {
      "cell_type": "code",
      "source": [
        "import numpy as np\n",
        "\n",
        "pathway_names = sorted(list(pathway_genes.keys()))\n",
        "pathway_index = {p: i for i, p in enumerate(pathway_names)}\n",
        "\n",
        "gene_features = {}\n",
        "\n",
        "for gene in genes_all:\n",
        "    vec = np.zeros(len(pathway_names))\n",
        "    for pathway, genes in pathway_genes.items():\n",
        "        if gene in genes:\n",
        "            vec[pathway_index[pathway]] = 1\n",
        "    gene_features[gene] = vec\n"
      ],
      "metadata": {
        "id": "2ZKKPxE81zua"
      },
      "execution_count": 18,
      "outputs": []
    },
    {
      "cell_type": "code",
      "source": [
        "!pip install networkx"
      ],
      "metadata": {
        "colab": {
          "base_uri": "https://localhost:8080/"
        },
        "id": "b4kFOWdVjKe4",
        "outputId": "225529b6-c72c-4899-867c-a449e30e6924"
      },
      "execution_count": 21,
      "outputs": [
        {
          "output_type": "stream",
          "name": "stdout",
          "text": [
            "Requirement already satisfied: networkx in /usr/local/lib/python3.11/dist-packages (3.5)\n"
          ]
        }
      ]
    },
    {
      "cell_type": "code",
      "execution_count": 23,
      "metadata": {
        "colab": {
          "base_uri": "https://localhost:8080/"
        },
        "id": "8D-fD6hj_o6G",
        "outputId": "89c27783-976c-4140-b39d-31f7f2bc187d"
      },
      "outputs": [
        {
          "output_type": "stream",
          "name": "stdout",
          "text": [
            "🧠 Sampled Graph: 500 nodes and 26628 edges.\n"
          ]
        }
      ],
      "source": [
        "import numpy as np\n",
        "import networkx as nx\n",
        "import random\n",
        "from itertools import combinations\n",
        "\n",
        "\n",
        "# Reduce graph size by sampling a subset of genes\n",
        "sample_size = 500  # Try 500–1000 depending on available RAM\n",
        "genes_all_sampled = random.sample(genes_all, sample_size)\n",
        "genes_all_set = set(genes_all_sampled)\n",
        "\n",
        "# Filter pathway genes to the sampled genes only\n",
        "filtered_pathway_genes = {\n",
        "    p: genes.intersection(genes_all_set) for p, genes in pathway_genes.items()\n",
        "}\n",
        "\n",
        "# Rebuild graph\n",
        "G = nx.Graph()\n",
        "\n",
        "for gene in genes_all_sampled:\n",
        "    G.add_node(gene, features=gene_features.get(gene, np.zeros_like(next(iter(gene_features.values())))))\n",
        "\n",
        "for genes in filtered_pathway_genes.values():\n",
        "    genes_filtered = list(genes)\n",
        "    for g1, g2 in combinations(genes_filtered, 2):\n",
        "        G.add_edge(g1, g2)\n",
        "\n",
        "print(f\"🧠 Sampled Graph: {len(G.nodes)} nodes and {len(G.edges)} edges.\")\n"
      ]
    },
    {
      "cell_type": "code",
      "execution_count": 24,
      "metadata": {
        "colab": {
          "base_uri": "https://localhost:8080/"
        },
        "id": "N8fyJ131_qxW",
        "outputId": "36d0b854-1214-4411-b3ff-ae34d9d921ee"
      },
      "outputs": [
        {
          "output_type": "stream",
          "name": "stdout",
          "text": [
            "📦 Successfully saved graph to gene_graph.pkl\n"
          ]
        }
      ],
      "source": [
        "import pickle\n",
        "\n",
        "try:\n",
        "    with open(\"gene_graph.pkl\", \"wb\") as f:\n",
        "        pickle.dump(G, f, protocol=pickle.HIGHEST_PROTOCOL)\n",
        "    print(\"📦 Successfully saved graph to gene_graph.pkl\")\n",
        "except Exception as e:\n",
        "    print(f\"❌ Failed to save graph: {e}\")\n"
      ]
    },
    {
      "cell_type": "code",
      "execution_count": 25,
      "metadata": {
        "colab": {
          "base_uri": "https://localhost:8080/",
          "height": 643
        },
        "id": "ro4yPXV5Ev5o",
        "outputId": "49915fe5-0ad5-4a5a-b410-3c2272c6c6f0"
      },
      "outputs": [
        {
          "output_type": "display_data",
          "data": {
            "text/plain": [
              "<Figure size 1000x1000 with 1 Axes>"
            ],
            "image/png": "[encoded data removed]"
          },
          "metadata": {}
        }
      ],
      "source": [
        "import matplotlib.pyplot as plt\n",
        "\n",
        "plt.figure(figsize=(10,10))\n",
        "nx.draw_networkx(G, node_size=20, with_labels=False)\n",
        "plt.show()\n"
      ]
    },
    {
      "cell_type": "code",
      "execution_count": 26,
      "metadata": {
        "id": "3lfbVEqYFMhk",
        "colab": {
          "base_uri": "https://localhost:8080/"
        },
        "outputId": "c87a7b50-f1cd-4063-d9ee-c2ddd0f5576f"
      },
      "outputs": [
        {
          "output_type": "stream",
          "name": "stdout",
          "text": [
            "✅ Parsed GO annotations for 44614 genes.\n"
          ]
        }
      ],
      "source": [
        "import gzip\n",
        "from collections import defaultdict\n",
        "\n",
        "# Create mapping: gene → GO terms\n",
        "gene_to_go = defaultdict(set)\n",
        "\n",
        "with gzip.open(\"goa_human.gaf.gz\", 'rt') as f:\n",
        "    for line in f:\n",
        "        if line.startswith(\"!\"):\n",
        "            continue  # skip header\n",
        "        parts = line.strip().split('\\t')\n",
        "        if len(parts) > 4:\n",
        "            gene = parts[2]\n",
        "            go_term = parts[4]\n",
        "            gene_to_go[gene].add(go_term)\n",
        "\n",
        "print(f\"✅ Parsed GO annotations for {len(gene_to_go)} genes.\")\n"
      ]
    },
    {
      "cell_type": "code",
      "source": [
        "# Build a sorted list of all unique GO terms\n",
        "all_go_terms = sorted({term for terms in gene_to_go.values() for term in terms})\n",
        "go_index = {term: i for i, term in enumerate(all_go_terms)}\n"
      ],
      "metadata": {
        "id": "Q-I5w_ix2DS3"
      },
      "execution_count": 27,
      "outputs": []
    },
    {
      "cell_type": "code",
      "source": [
        "import numpy as np\n",
        "\n",
        "gene_to_go_vector = {}\n",
        "\n",
        "for gene in genes_all:\n",
        "    vec = np.zeros(len(all_go_terms))\n",
        "    for term in gene_to_go.get(gene, []):\n",
        "        vec[go_index[term]] = 1\n",
        "    gene_to_go_vector[gene] = vec\n"
      ],
      "metadata": {
        "id": "jpJExsjB2V5_"
      },
      "execution_count": 28,
      "outputs": []
    },
    {
      "cell_type": "code",
      "source": [
        "# Combine GO and pathway vectors\n",
        "gene_to_combined_vector = {}\n",
        "\n",
        "for gene in genes_all:\n",
        "    pathway_vec = gene_to_pathway_vector.get(gene, np.zeros(len(pathway_names)))\n",
        "    go_vec = gene_to_go_vector.get(gene, np.zeros(len(all_go_terms)))\n",
        "    combined_vec = np.concatenate([pathway_vec, go_vec])\n",
        "    gene_to_combined_vector[gene] = combined_vec\n"
      ],
      "metadata": {
        "id": "v8Fk-9JO2ZGL"
      },
      "execution_count": 29,
      "outputs": []
    },
    {
      "cell_type": "code",
      "source": [
        "!wget https://www.ebi.ac.uk/gwas/api/search/downloads/full -O gwas_catalog.tsv\n"
      ],
      "metadata": {
        "colab": {
          "base_uri": "https://localhost:8080/"
        },
        "id": "EkYFCmEo2b4q",
        "outputId": "00414fe2-2108-43a6-c249-291ec996fb01"
      },
      "execution_count": 30,
      "outputs": [
        {
          "output_type": "stream",
          "name": "stdout",
          "text": [
            "--2025-06-05 00:47:30--  https://www.ebi.ac.uk/gwas/api/search/downloads/full\n",
            "Resolving www.ebi.ac.uk (www.ebi.ac.uk)... 193.62.193.80\n",
            "Connecting to www.ebi.ac.uk (www.ebi.ac.uk)|193.62.193.80|:443... connected.\n",
            "HTTP request sent, awaiting response... 200 OK\n",
            "Length: unspecified [text/tsv]\n",
            "Saving to: ‘gwas_catalog.tsv’\n",
            "\n",
            "gwas_catalog.tsv        [     <=>            ] 391.75M  14.3MB/s    in 30s     \n",
            "\n",
            "2025-06-05 00:48:00 (13.2 MB/s) - ‘gwas_catalog.tsv’ saved [410776502]\n",
            "\n"
          ]
        }
      ]
    },
    {
      "cell_type": "code",
      "source": [
        "import pandas as pd\n",
        "\n",
        "# Load with tab separator\n",
        "gwas_data = pd.read_csv(\"gwas_catalog.tsv\", sep=\"\\t\")\n",
        "\n",
        "# Display a few rows to understand structure\n",
        "gwas_data.head()\n"
      ],
      "metadata": {
        "colab": {
          "base_uri": "https://localhost:8080/",
          "height": 708
        },
        "id": "b3AZ0NLu3LV8",
        "outputId": "a175bb15-046d-470d-ca80-18b8f05f139f"
      },
      "execution_count": 31,
      "outputs": [
        {
          "output_type": "stream",
          "name": "stderr",
          "text": [
            "<ipython-input-31-c6c2970ee28d>:4: DtypeWarning: Columns (9,11,12,13,23,26,29) have mixed types. Specify dtype option on import or set low_memory=False.\n",
            "  gwas_data = pd.read_csv(\"gwas_catalog.tsv\", sep=\"\\t\")\n"
          ]
        },
        {
          "output_type": "execute_result",
          "data": {
            "text/plain": [
              "  DATE ADDED TO CATALOG  PUBMEDID FIRST AUTHOR        DATE          JOURNAL  \\\n",
              "0            2020-08-03  32352494        Han X  2020-04-30  JAMA Ophthalmol   \n",
              "1            2020-08-03  32352494        Han X  2020-04-30  JAMA Ophthalmol   \n",
              "2            2020-08-03  32352494        Han X  2020-04-30  JAMA Ophthalmol   \n",
              "3            2020-08-03  32352494        Han X  2020-04-30  JAMA Ophthalmol   \n",
              "4            2020-08-03  32352494        Han X  2020-04-30  JAMA Ophthalmol   \n",
              "\n",
              "                                   LINK  \\\n",
              "0  www.ncbi.nlm.nih.gov/pubmed/32352494   \n",
              "1  www.ncbi.nlm.nih.gov/pubmed/32352494   \n",
              "2  www.ncbi.nlm.nih.gov/pubmed/32352494   \n",
              "3  www.ncbi.nlm.nih.gov/pubmed/32352494   \n",
              "4  www.ncbi.nlm.nih.gov/pubmed/32352494   \n",
              "\n",
              "                                               STUDY         DISEASE/TRAIT  \\\n",
              "0  Association of Myopia and Intraocular Pressure...  Spherical equivalent   \n",
              "1  Association of Myopia and Intraocular Pressure...    Retinal detachment   \n",
              "2  Association of Myopia and Intraocular Pressure...  Spherical equivalent   \n",
              "3  Association of Myopia and Intraocular Pressure...  Spherical equivalent   \n",
              "4  Association of Myopia and Intraocular Pressure...  Spherical equivalent   \n",
              "\n",
              "                                 INITIAL SAMPLE SIZE REPLICATION SAMPLE SIZE  \\\n",
              "0               95,827 European ancestry individuals                     NaN   \n",
              "1  4,257 European ancestry cases, 39,181 European...                     NaN   \n",
              "2               95,827 European ancestry individuals                     NaN   \n",
              "3               95,827 European ancestry individuals                     NaN   \n",
              "4               95,827 European ancestry individuals                     NaN   \n",
              "\n",
              "   ...             CONTEXT INTERGENIC RISK ALLELE FREQUENCY       P-VALUE  \\\n",
              "0  ...  intergenic_variant        1.0                    NR  2.000000e-08   \n",
              "1  ...      intron_variant        0.0                  0.37  1.000000e-15   \n",
              "2  ...  intergenic_variant        1.0                    NR  5.000000e-16   \n",
              "3  ...      intron_variant        0.0                    NR  6.000000e-10   \n",
              "4  ...    missense_variant        0.0                    NR  3.000000e-10   \n",
              "\n",
              "  PVALUE_MLOG P-VALUE (TEXT) OR or BETA              95% CI (TEXT)  \\\n",
              "0    7.698970            NaN       0.07  [0.05-0.09] unit increase   \n",
              "1   15.000000            NaN       0.20  [0.16-0.24] unit decrease   \n",
              "2   15.301030            NaN       0.11  [0.09-0.13] unit increase   \n",
              "3    9.221849            NaN       0.20  [0.14-0.26] unit increase   \n",
              "4    9.522879            NaN       0.08   [0.06-0.1] unit increase   \n",
              "\n",
              "   PLATFORM [SNPS PASSING QC]  CNV  \n",
              "0                     NR [NR]    N  \n",
              "1                     NR [NR]    N  \n",
              "2                     NR [NR]    N  \n",
              "3                     NR [NR]    N  \n",
              "4                     NR [NR]    N  \n",
              "\n",
              "[5 rows x 34 columns]"
            ],
            "text/html": [
              "\n",
              "  <div id=\"df-15e928a0-c3cb-437f-910c-10dac587a214\" class=\"colab-df-container\">\n",
              "    <div>\n",
              "<style scoped>\n",
              "    .dataframe tbody tr th:only-of-type {\n",
              "        vertical-align: middle;\n",
              "    }\n",
              "\n",
              "    .dataframe tbody tr th {\n",
              "        vertical-align: top;\n",
              "    }\n",
              "\n",
              "    .dataframe thead th {\n",
              "        text-align: right;\n",
              "    }\n",
              "</style>\n",
              "<table border=\"1\" class=\"dataframe\">\n",
              "  <thead>\n",
              "    <tr style=\"text-align: right;\">\n",
              "      <th></th>\n",
              "      <th>DATE ADDED TO CATALOG</th>\n",
              "      <th>PUBMEDID</th>\n",
              "      <th>FIRST AUTHOR</th>\n",
              "      <th>DATE</th>\n",
              "      <th>JOURNAL</th>\n",
              "      <th>LINK</th>\n",
              "      <th>STUDY</th>\n",
              "      <th>DISEASE/TRAIT</th>\n",
              "      <th>INITIAL SAMPLE SIZE</th>\n",
              "      <th>REPLICATION SAMPLE SIZE</th>\n",
              "      <th>...</th>\n",
              "      <th>CONTEXT</th>\n",
              "      <th>INTERGENIC</th>\n",
              "      <th>RISK ALLELE FREQUENCY</th>\n",
              "      <th>P-VALUE</th>\n",
              "      <th>PVALUE_MLOG</th>\n",
              "      <th>P-VALUE (TEXT)</th>\n",
              "      <th>OR or BETA</th>\n",
              "      <th>95% CI (TEXT)</th>\n",
              "      <th>PLATFORM [SNPS PASSING QC]</th>\n",
              "      <th>CNV</th>\n",
              "    </tr>\n",
              "  </thead>\n",
              "  <tbody>\n",
              "    <tr>\n",
              "      <th>0</th>\n",
              "      <td>2020-08-03</td>\n",
              "      <td>32352494</td>\n",
              "      <td>Han X</td>\n",
              "      <td>2020-04-30</td>\n",
              "      <td>JAMA Ophthalmol</td>\n",
              "      <td>www.ncbi.nlm.nih.gov/pubmed/32352494</td>\n",
              "      <td>Association of Myopia and Intraocular Pressure...</td>\n",
              "      <td>Spherical equivalent</td>\n",
              "      <td>95,827 European ancestry individuals</td>\n",
              "      <td>NaN</td>\n",
              "      <td>...</td>\n",
              "      <td>intergenic_variant</td>\n",
              "      <td>1.0</td>\n",
              "      <td>NR</td>\n",
              "      <td>2.000000e-08</td>\n",
              "      <td>7.698970</td>\n",
              "      <td>NaN</td>\n",
              "      <td>0.07</td>\n",
              "      <td>[0.05-0.09] unit increase</td>\n",
              "      <td>NR [NR]</td>\n",
              "      <td>N</td>\n",
              "    </tr>\n",
              "    <tr>\n",
              "      <th>1</th>\n",
              "      <td>2020-08-03</td>\n",
              "      <td>32352494</td>\n",
              "      <td>Han X</td>\n",
              "      <td>2020-04-30</td>\n",
              "      <td>JAMA Ophthalmol</td>\n",
              "      <td>www.ncbi.nlm.nih.gov/pubmed/32352494</td>\n",
              "      <td>Association of Myopia and Intraocular Pressure...</td>\n",
              "      <td>Retinal detachment</td>\n",
              "      <td>4,257 European ancestry cases, 39,181 European...</td>\n",
              "      <td>NaN</td>\n",
              "      <td>...</td>\n",
              "      <td>intron_variant</td>\n",
              "      <td>0.0</td>\n",
              "      <td>0.37</td>\n",
              "      <td>1.000000e-15</td>\n",
              "      <td>15.000000</td>\n",
              "      <td>NaN</td>\n",
              "      <td>0.20</td>\n",
              "      <td>[0.16-0.24] unit decrease</td>\n",
              "      <td>NR [NR]</td>\n",
              "      <td>N</td>\n",
              "    </tr>\n",
              "    <tr>\n",
              "      <th>2</th>\n",
              "      <td>2020-08-03</td>\n",
              "      <td>32352494</td>\n",
              "      <td>Han X</td>\n",
              "      <td>2020-04-30</td>\n",
              "      <td>JAMA Ophthalmol</td>\n",
              "      <td>www.ncbi.nlm.nih.gov/pubmed/32352494</td>\n",
              "      <td>Association of Myopia and Intraocular Pressure...</td>\n",
              "      <td>Spherical equivalent</td>\n",
              "      <td>95,827 European ancestry individuals</td>\n",
              "      <td>NaN</td>\n",
              "      <td>...</td>\n",
              "      <td>intergenic_variant</td>\n",
              "      <td>1.0</td>\n",
              "      <td>NR</td>\n",
              "      <td>5.000000e-16</td>\n",
              "      <td>15.301030</td>\n",
              "      <td>NaN</td>\n",
              "      <td>0.11</td>\n",
              "      <td>[0.09-0.13] unit increase</td>\n",
              "      <td>NR [NR]</td>\n",
              "      <td>N</td>\n",
              "    </tr>\n",
              "    <tr>\n",
              "      <th>3</th>\n",
              "      <td>2020-08-03</td>\n",
              "      <td>32352494</td>\n",
              "      <td>Han X</td>\n",
              "      <td>2020-04-30</td>\n",
              "      <td>JAMA Ophthalmol</td>\n",
              "      <td>www.ncbi.nlm.nih.gov/pubmed/32352494</td>\n",
              "      <td>Association of Myopia and Intraocular Pressure...</td>\n",
              "      <td>Spherical equivalent</td>\n",
              "      <td>95,827 European ancestry individuals</td>\n",
              "      <td>NaN</td>\n",
              "      <td>...</td>\n",
              "      <td>intron_variant</td>\n",
              "      <td>0.0</td>\n",
              "      <td>NR</td>\n",
              "      <td>6.000000e-10</td>\n",
              "      <td>9.221849</td>\n",
              "      <td>NaN</td>\n",
              "      <td>0.20</td>\n",
              "      <td>[0.14-0.26] unit increase</td>\n",
              "      <td>NR [NR]</td>\n",
              "      <td>N</td>\n",
              "    </tr>\n",
              "    <tr>\n",
              "      <th>4</th>\n",
              "      <td>2020-08-03</td>\n",
              "      <td>32352494</td>\n",
              "      <td>Han X</td>\n",
              "      <td>2020-04-30</td>\n",
              "      <td>JAMA Ophthalmol</td>\n",
              "      <td>www.ncbi.nlm.nih.gov/pubmed/32352494</td>\n",
              "      <td>Association of Myopia and Intraocular Pressure...</td>\n",
              "      <td>Spherical equivalent</td>\n",
              "      <td>95,827 European ancestry individuals</td>\n",
              "      <td>NaN</td>\n",
              "      <td>...</td>\n",
              "      <td>missense_variant</td>\n",
              "      <td>0.0</td>\n",
              "      <td>NR</td>\n",
              "      <td>3.000000e-10</td>\n",
              "      <td>9.522879</td>\n",
              "      <td>NaN</td>\n",
              "      <td>0.08</td>\n",
              "      <td>[0.06-0.1] unit increase</td>\n",
              "      <td>NR [NR]</td>\n",
              "      <td>N</td>\n",
              "    </tr>\n",
              "  </tbody>\n",
              "</table>\n",
              "<p>5 rows × 34 columns</p>\n",
              "</div>\n",
              "    <div class=\"colab-df-buttons\">\n",
              "\n",
              "  <div class=\"colab-df-container\">\n",
              "    <button class=\"colab-df-convert\" onclick=\"convertToInteractive('df-15e928a0-c3cb-437f-910c-10dac587a214')\"\n",
              "            title=\"Convert this dataframe to an interactive table.\"\n",
              "            style=\"display:none;\">\n",
              "\n",
              "  <svg xmlns=\"http://www.w3.org/2000/svg\" height=\"24px\" viewBox=\"0 -960 960 960\">\n",
              "    <path d=\"M120-120v-720h720v720H120Zm60-500h600v-160H180v160Zm220 220h160v-160H400v160Zm0 220h160v-160H400v160ZM180-400h160v-160H180v160Zm440 0h160v-160H620v160ZM180-180h160v-160H180v160Zm440 0h160v-160H620v160Z\"/>\n",
              "  </svg>\n",
              "    </button>\n",
              "\n",
              "  <style>\n",
              "    .colab-df-container {\n",
              "      display:flex;\n",
              "      gap: 12px;\n",
              "    }\n",
              "\n",
              "    .colab-df-convert {\n",
              "      background-color: #E8F0FE;\n",
              "      border: none;\n",
              "      border-radius: 50%;\n",
              "      cursor: pointer;\n",
              "      display: none;\n",
              "      fill: #1967D2;\n",
              "      height: 32px;\n",
              "      padding: 0 0 0 0;\n",
              "      width: 32px;\n",
              "    }\n",
              "\n",
              "    .colab-df-convert:hover {\n",
              "      background-color: #E2EBFA;\n",
              "      box-shadow: 0px 1px 2px rgba(60, 64, 67, 0.3), 0px 1px 3px 1px rgba(60, 64, 67, 0.15);\n",
              "      fill: #174EA6;\n",
              "    }\n",
              "\n",
              "    .colab-df-buttons div {\n",
              "      margin-bottom: 4px;\n",
              "    }\n",
              "\n",
              "    [theme=dark] .colab-df-convert {\n",
              "      background-color: #3B4455;\n",
              "      fill: #D2E3FC;\n",
              "    }\n",
              "\n",
              "    [theme=dark] .colab-df-convert:hover {\n",
              "      background-color: #434B5C;\n",
              "      box-shadow: 0px 1px 3px 1px rgba(0, 0, 0, 0.15);\n",
              "      filter: drop-shadow(0px 1px 2px rgba(0, 0, 0, 0.3));\n",
              "      fill: #FFFFFF;\n",
              "    }\n",
              "  </style>\n",
              "\n",
              "    <script>\n",
              "      const buttonEl =\n",
              "        document.querySelector('#df-15e928a0-c3cb-437f-910c-10dac587a214 button.colab-df-convert');\n",
              "      buttonEl.style.display =\n",
              "        google.colab.kernel.accessAllowed ? 'block' : 'none';\n",
              "\n",
              "      async function convertToInteractive(key) {\n",
              "        const element = document.querySelector('#df-15e928a0-c3cb-437f-910c-10dac587a214');\n",
              "        const dataTable =\n",
              "          await google.colab.kernel.invokeFunction('convertToInteractive',\n",
              "                                                    [key], {});\n",
              "        if (!dataTable) return;\n",
              "\n",
              "        const docLinkHtml = 'Like what you see? Visit the ' +\n",
              "          '<a target=\"_blank\" href=https://colab.research.google.com/notebooks/data_table.ipynb>data table notebook</a>'\n",
              "          + ' to learn more about interactive tables.';\n",
              "        element.innerHTML = '';\n",
              "        dataTable['output_type'] = 'display_data';\n",
              "        await google.colab.output.renderOutput(dataTable, element);\n",
              "        const docLink = document.createElement('div');\n",
              "        docLink.innerHTML = docLinkHtml;\n",
              "        element.appendChild(docLink);\n",
              "      }\n",
              "    </script>\n",
              "  </div>\n",
              "\n",
              "\n",
              "    <div id=\"df-7e24f4cc-4d84-4445-aeac-28ed0ff96cb2\">\n",
              "      <button class=\"colab-df-quickchart\" onclick=\"quickchart('df-7e24f4cc-4d84-4445-aeac-28ed0ff96cb2')\"\n",
              "                title=\"Suggest charts\"\n",
              "                style=\"display:none;\">\n",
              "\n",
              "<svg xmlns=\"http://www.w3.org/2000/svg\" height=\"24px\"viewBox=\"0 0 24 24\"\n",
              "     width=\"24px\">\n",
              "    <g>\n",
              "        <path d=\"M19 3H5c-1.1 0-2 .9-2 2v14c0 1.1.9 2 2 2h14c1.1 0 2-.9 2-2V5c0-1.1-.9-2-2-2zM9 17H7v-7h2v7zm4 0h-2V7h2v10zm4 0h-2v-4h2v4z\"/>\n",
              "    </g>\n",
              "</svg>\n",
              "      </button>\n",
              "\n",
              "<style>\n",
              "  .colab-df-quickchart {\n",
              "      --bg-color: #E8F0FE;\n",
              "      --fill-color: #1967D2;\n",
              "      --hover-bg-color: #E2EBFA;\n",
              "      --hover-fill-color: #174EA6;\n",
              "      --disabled-fill-color: #AAA;\n",
              "      --disabled-bg-color: #DDD;\n",
              "  }\n",
              "\n",
              "  [theme=dark] .colab-df-quickchart {\n",
              "      --bg-color: #3B4455;\n",
              "      --fill-color: #D2E3FC;\n",
              "      --hover-bg-color: #434B5C;\n",
              "      --hover-fill-color: #FFFFFF;\n",
              "      --disabled-bg-color: #3B4455;\n",
              "      --disabled-fill-color: #666;\n",
              "  }\n",
              "\n",
              "  .colab-df-quickchart {\n",
              "    background-color: var(--bg-color);\n",
              "    border: none;\n",
              "    border-radius: 50%;\n",
              "    cursor: pointer;\n",
              "    display: none;\n",
              "    fill: var(--fill-color);\n",
              "    height: 32px;\n",
              "    padding: 0;\n",
              "    width: 32px;\n",
              "  }\n",
              "\n",
              "  .colab-df-quickchart:hover {\n",
              "    background-color: var(--hover-bg-color);\n",
              "    box-shadow: 0 1px 2px rgba(60, 64, 67, 0.3), 0 1px 3px 1px rgba(60, 64, 67, 0.15);\n",
              "    fill: var(--button-hover-fill-color);\n",
              "  }\n",
              "\n",
              "  .colab-df-quickchart-complete:disabled,\n",
              "  .colab-df-quickchart-complete:disabled:hover {\n",
              "    background-color: var(--disabled-bg-color);\n",
              "    fill: var(--disabled-fill-color);\n",
              "    box-shadow: none;\n",
              "  }\n",
              "\n",
              "  .colab-df-spinner {\n",
              "    border: 2px solid var(--fill-color);\n",
              "    border-color: transparent;\n",
              "    border-bottom-color: var(--fill-color);\n",
              "    animation:\n",
              "      spin 1s steps(1) infinite;\n",
              "  }\n",
              "\n",
              "  @keyframes spin {\n",
              "    0% {\n",
              "      border-color: transparent;\n",
              "      border-bottom-color: var(--fill-color);\n",
              "      border-left-color: var(--fill-color);\n",
              "    }\n",
              "    20% {\n",
              "      border-color: transparent;\n",
              "      border-left-color: var(--fill-color);\n",
              "      border-top-color: var(--fill-color);\n",
              "    }\n",
              "    30% {\n",
              "      border-color: transparent;\n",
              "      border-left-color: var(--fill-color);\n",
              "      border-top-color: var(--fill-color);\n",
              "      border-right-color: var(--fill-color);\n",
              "    }\n",
              "    40% {\n",
              "      border-color: transparent;\n",
              "      border-right-color: var(--fill-color);\n",
              "      border-top-color: var(--fill-color);\n",
              "    }\n",
              "    60% {\n",
              "      border-color: transparent;\n",
              "      border-right-color: var(--fill-color);\n",
              "    }\n",
              "    80% {\n",
              "      border-color: transparent;\n",
              "      border-right-color: var(--fill-color);\n",
              "      border-bottom-color: var(--fill-color);\n",
              "    }\n",
              "    90% {\n",
              "      border-color: transparent;\n",
              "      border-bottom-color: var(--fill-color);\n",
              "    }\n",
              "  }\n",
              "</style>\n",
              "\n",
              "      <script>\n",
              "        async function quickchart(key) {\n",
              "          const quickchartButtonEl =\n",
              "            document.querySelector('#' + key + ' button');\n",
              "          quickchartButtonEl.disabled = true;  // To prevent multiple clicks.\n",
              "          quickchartButtonEl.classList.add('colab-df-spinner');\n",
              "          try {\n",
              "            const charts = await google.colab.kernel.invokeFunction(\n",
              "                'suggestCharts', [key], {});\n",
              "          } catch (error) {\n",
              "            console.error('Error during call to suggestCharts:', error);\n",
              "          }\n",
              "          quickchartButtonEl.classList.remove('colab-df-spinner');\n",
              "          quickchartButtonEl.classList.add('colab-df-quickchart-complete');\n",
              "        }\n",
              "        (() => {\n",
              "          let quickchartButtonEl =\n",
              "            document.querySelector('#df-7e24f4cc-4d84-4445-aeac-28ed0ff96cb2 button');\n",
              "          quickchartButtonEl.style.display =\n",
              "            google.colab.kernel.accessAllowed ? 'block' : 'none';\n",
              "        })();\n",
              "      </script>\n",
              "    </div>\n",
              "\n",
              "    </div>\n",
              "  </div>\n"
            ],
            "application/vnd.google.colaboratory.intrinsic+json": {
              "type": "dataframe",
              "variable_name": "gwas_data"
            }
          },
          "metadata": {},
          "execution_count": 31
        }
      ]
    },
    {
      "cell_type": "code",
      "source": [
        "# Some entries have multiple genes separated by commas — split them\n",
        "from collections import defaultdict\n",
        "\n",
        "gene_snp_counts = defaultdict(int)\n",
        "\n",
        "for entry in gwas_data[\"MAPPED_GENE\"].dropna():\n",
        "    genes = [g.strip() for g in entry.split(\",\")]\n",
        "    for gene in genes:\n",
        "        gene_snp_counts[gene] += 1\n"
      ],
      "metadata": {
        "id": "hN1uPMA25N-A"
      },
      "execution_count": 32,
      "outputs": []
    },
    {
      "cell_type": "code",
      "source": [
        "import numpy as np\n",
        "\n",
        "# Add snp_count as a new feature to your existing gene_features dictionary\n",
        "for gene in gene_features:\n",
        "    snp_count = gene_snp_counts.get(gene, 0)\n",
        "    gene_features[gene] = np.append(gene_features[gene], snp_count)\n"
      ],
      "metadata": {
        "id": "E1aH5fkG5RMd"
      },
      "execution_count": 33,
      "outputs": []
    },
    {
      "cell_type": "code",
      "source": [
        "import torch\n",
        "import torch.nn as nn\n",
        "import torch.nn.functional as F\n"
      ],
      "metadata": {
        "id": "_M9u670S5Vgk"
      },
      "execution_count": 34,
      "outputs": []
    },
    {
      "cell_type": "code",
      "source": [
        "class AttentionFusion(nn.Module):\n",
        "    def __init__(self, input_dim, hidden_dim=128, num_heads=4, output_dim=64):\n",
        "        super(AttentionFusion, self).__init__()\n",
        "\n",
        "        self.attention = nn.MultiheadAttention(embed_dim=input_dim, num_heads=num_heads, batch_first=True)\n",
        "        self.linear1 = nn.Linear(input_dim, hidden_dim)\n",
        "        self.linear2 = nn.Linear(hidden_dim, output_dim)\n",
        "\n",
        "    def forward(self, x):\n",
        "        # Self-attention: query = key = value = x\n",
        "        attn_output, _ = self.attention(x, x, x)\n",
        "        x = F.relu(self.linear1(attn_output))\n",
        "        out = self.linear2(x)\n",
        "        return out\n"
      ],
      "metadata": {
        "id": "kZe-G8G_5omM"
      },
      "execution_count": 35,
      "outputs": []
    },
    {
      "cell_type": "code",
      "source": [
        "# Convert gene features into a tensor\n",
        "import numpy as np\n",
        "import torch\n",
        "\n",
        "# Collect all feature vectors\n",
        "features = [gene_features[gene] for gene in genes_all_sampled if gene in gene_features]\n",
        "\n",
        "# Convert to tensor\n",
        "X = torch.tensor(np.array(features), dtype=torch.float32)\n",
        "\n",
        "# Add a batch dimension for attention layer: shape [batch_size, seq_len, input_dim]\n",
        "X = X.unsqueeze(0)  # shape: [1, num_genes, feature_dim]\n"
      ],
      "metadata": {
        "id": "EVGeBEq05r-y"
      },
      "execution_count": 36,
      "outputs": []
    },
    {
      "cell_type": "code",
      "source": [
        "input_dim = X.shape[2]\n",
        "model = AttentionFusion(input_dim=input_dim)\n",
        "\n",
        "# Forward pass\n",
        "with torch.no_grad():\n",
        "    output = model(X)\n",
        "\n",
        "print(\"✅ Attention fusion output shape:\", output.shape)\n"
      ],
      "metadata": {
        "colab": {
          "base_uri": "https://localhost:8080/"
        },
        "id": "G9fhfThn5unQ",
        "outputId": "695a45bc-1f19-4b87-bdd5-3b65c8ab11fe"
      },
      "execution_count": 37,
      "outputs": [
        {
          "output_type": "stream",
          "name": "stdout",
          "text": [
            "✅ Attention fusion output shape: torch.Size([1, 500, 64])\n"
          ]
        }
      ]
    },
    {
      "cell_type": "code",
      "source": [
        "# PyG with CUDA 11.7\n",
        "!pip install torch-scatter torch-sparse torch-cluster torch-spline-conv \\\n",
        "  -f https://data.pyg.org/whl/torch-2.0.0+cu117.html\n",
        "!pip install torch-geometric\n"
      ],
      "metadata": {
        "colab": {
          "base_uri": "https://localhost:8080/"
        },
        "id": "ytatSK845x9C",
        "outputId": "d43d5178-0801-496b-9bed-32817afd9ca8"
      },
      "execution_count": 38,
      "outputs": [
        {
          "output_type": "stream",
          "name": "stdout",
          "text": [
            "Looking in links: https://data.pyg.org/whl/torch-2.0.0+cu117.html\n",
            "Collecting torch-scatter\n",
            "  Downloading https://data.pyg.org/whl/torch-2.0.0%2Bcu117/torch_scatter-2.1.2%2Bpt20cu117-cp311-cp311-linux_x86_64.whl (10.1 MB)\n",
            "\u001b[2K     \u001b[90m━━━━━━━━━━━━━━━━━━━━━━━━━━━━━━━━━━━━━━━━\u001b[0m \u001b[32m10.1/10.1 MB\u001b[0m \u001b[31m46.3 MB/s\u001b[0m eta \u001b[36m0:00:00\u001b[0m\n",
            "\u001b[?25hCollecting torch-sparse\n",
            "  Downloading https://data.pyg.org/whl/torch-2.0.0%2Bcu117/torch_sparse-0.6.18%2Bpt20cu117-cp311-cp311-linux_x86_64.whl (4.9 MB)\n",
            "\u001b[2K     \u001b[90m━━━━━━━━━━━━━━━━━━━━━━━━━━━━━━━━━━━━━━━━\u001b[0m \u001b[32m4.9/4.9 MB\u001b[0m \u001b[31m22.7 MB/s\u001b[0m eta \u001b[36m0:00:00\u001b[0m\n",
            "\u001b[?25hCollecting torch-cluster\n",
            "  Downloading https://data.pyg.org/whl/torch-2.0.0%2Bcu117/torch_cluster-1.6.3%2Bpt20cu117-cp311-cp311-linux_x86_64.whl (3.3 MB)\n",
            "\u001b[2K     \u001b[90m━━━━━━━━━━━━━━━━━━━━━━━━━━━━━━━━━━━━━━━━\u001b[0m \u001b[32m3.3/3.3 MB\u001b[0m \u001b[31m46.9 MB/s\u001b[0m eta \u001b[36m0:00:00\u001b[0m\n",
            "\u001b[?25hCollecting torch-spline-conv\n",
            "  Downloading https://data.pyg.org/whl/torch-2.0.0%2Bcu117/torch_spline_conv-1.2.2%2Bpt20cu117-cp311-cp311-linux_x86_64.whl (887 kB)\n",
            "\u001b[2K     \u001b[90m━━━━━━━━━━━━━━━━━━━━━━━━━━━━━━━━━━━━━━\u001b[0m \u001b[32m887.1/887.1 kB\u001b[0m \u001b[31m23.9 MB/s\u001b[0m eta \u001b[36m0:00:00\u001b[0m\n",
            "\u001b[?25hRequirement already satisfied: scipy in /usr/local/lib/python3.11/dist-packages (from torch-sparse) (1.15.3)\n",
            "Requirement already satisfied: numpy<2.5,>=1.23.5 in /usr/local/lib/python3.11/dist-packages (from scipy->torch-sparse) (2.0.2)\n",
            "Installing collected packages: torch-spline-conv, torch-scatter, torch-sparse, torch-cluster\n",
            "Successfully installed torch-cluster-1.6.3+pt20cu117 torch-scatter-2.1.2+pt20cu117 torch-sparse-0.6.18+pt20cu117 torch-spline-conv-1.2.2+pt20cu117\n",
            "Collecting torch-geometric\n",
            "  Downloading torch_geometric-2.6.1-py3-none-any.whl.metadata (63 kB)\n",
            "\u001b[2K     \u001b[90m━━━━━━━━━━━━━━━━━━━━━━━━━━━━━━━━━━━━━━━━\u001b[0m \u001b[32m63.1/63.1 kB\u001b[0m \u001b[31m3.0 MB/s\u001b[0m eta \u001b[36m0:00:00\u001b[0m\n",
            "\u001b[?25hRequirement already satisfied: aiohttp in /usr/local/lib/python3.11/dist-packages (from torch-geometric) (3.11.15)\n",
            "Requirement already satisfied: fsspec in /usr/local/lib/python3.11/dist-packages (from torch-geometric) (2025.3.2)\n",
            "Requirement already satisfied: jinja2 in /usr/local/lib/python3.11/dist-packages (from torch-geometric) (3.1.6)\n",
            "Requirement already satisfied: numpy in /usr/local/lib/python3.11/dist-packages (from torch-geometric) (2.0.2)\n",
            "Requirement already satisfied: psutil>=5.8.0 in /usr/local/lib/python3.11/dist-packages (from torch-geometric) (5.9.5)\n",
            "Requirement already satisfied: pyparsing in /usr/local/lib/python3.11/dist-packages (from torch-geometric) (3.2.3)\n",
            "Requirement already satisfied: requests in /usr/local/lib/python3.11/dist-packages (from torch-geometric) (2.32.3)\n",
            "Requirement already satisfied: tqdm in /usr/local/lib/python3.11/dist-packages (from torch-geometric) (4.67.1)\n",
            "Requirement already satisfied: aiohappyeyeballs>=2.3.0 in /usr/local/lib/python3.11/dist-packages (from aiohttp->torch-geometric) (2.6.1)\n",
            "Requirement already satisfied: aiosignal>=1.1.2 in /usr/local/lib/python3.11/dist-packages (from aiohttp->torch-geometric) (1.3.2)\n",
            "Requirement already satisfied: attrs>=17.3.0 in /usr/local/lib/python3.11/dist-packages (from aiohttp->torch-geometric) (25.3.0)\n",
            "Requirement already satisfied: frozenlist>=1.1.1 in /usr/local/lib/python3.11/dist-packages (from aiohttp->torch-geometric) (1.6.0)\n",
            "Requirement already satisfied: multidict<7.0,>=4.5 in /usr/local/lib/python3.11/dist-packages (from aiohttp->torch-geometric) (6.4.4)\n",
            "Requirement already satisfied: propcache>=0.2.0 in /usr/local/lib/python3.11/dist-packages (from aiohttp->torch-geometric) (0.3.1)\n",
            "Requirement already satisfied: yarl<2.0,>=1.17.0 in /usr/local/lib/python3.11/dist-packages (from aiohttp->torch-geometric) (1.20.0)\n",
            "Requirement already satisfied: MarkupSafe>=2.0 in /usr/local/lib/python3.11/dist-packages (from jinja2->torch-geometric) (3.0.2)\n",
            "Requirement already satisfied: charset-normalizer<4,>=2 in /usr/local/lib/python3.11/dist-packages (from requests->torch-geometric) (3.4.2)\n",
            "Requirement already satisfied: idna<4,>=2.5 in /usr/local/lib/python3.11/dist-packages (from requests->torch-geometric) (3.10)\n",
            "Requirement already satisfied: urllib3<3,>=1.21.1 in /usr/local/lib/python3.11/dist-packages (from requests->torch-geometric) (2.4.0)\n",
            "Requirement already satisfied: certifi>=2017.4.17 in /usr/local/lib/python3.11/dist-packages (from requests->torch-geometric) (2025.4.26)\n",
            "Downloading torch_geometric-2.6.1-py3-none-any.whl (1.1 MB)\n",
            "\u001b[2K   \u001b[90m━━━━━━━━━━━━━━━━━━━━━━━━━━━━━━━━━━━━━━━━\u001b[0m \u001b[32m1.1/1.1 MB\u001b[0m \u001b[31m30.2 MB/s\u001b[0m eta \u001b[36m0:00:00\u001b[0m\n",
            "\u001b[?25hInstalling collected packages: torch-geometric\n",
            "Successfully installed torch-geometric-2.6.1\n"
          ]
        }
      ]
    },
    {
      "cell_type": "code",
      "source": [
        "from torch_geometric.utils import from_networkx\n",
        "\n",
        "# Rename feature attribute to 'x' (PyG expects node features under 'x')\n",
        "for node in G.nodes:\n",
        "    G.nodes[node]['x'] = G.nodes[node].pop('features')\n",
        "\n",
        "# Convert\n",
        "data = from_networkx(G)\n",
        "print(data)\n"
      ],
      "metadata": {
        "colab": {
          "base_uri": "https://localhost:8080/"
        },
        "id": "LGw2lfg0keCW",
        "outputId": "9f59d3df-b9be-454e-9403-897c44477003"
      },
      "execution_count": 39,
      "outputs": [
        {
          "output_type": "stream",
          "name": "stderr",
          "text": [
            "/usr/local/lib/python3.11/dist-packages/torch_geometric/typing.py:86: UserWarning: An issue occurred while importing 'torch-scatter'. Disabling its usage. Stacktrace: /usr/local/lib/python3.11/dist-packages/torch_scatter/_version_cuda.so: undefined symbol: _ZN3c1017RegisterOperatorsD1Ev\n",
            "  warnings.warn(f\"An issue occurred while importing 'torch-scatter'. \"\n",
            "/usr/local/lib/python3.11/dist-packages/torch_geometric/typing.py:97: UserWarning: An issue occurred while importing 'torch-cluster'. Disabling its usage. Stacktrace: /usr/local/lib/python3.11/dist-packages/torch_cluster/_version_cuda.so: undefined symbol: _ZN3c1017RegisterOperatorsD1Ev\n",
            "  warnings.warn(f\"An issue occurred while importing 'torch-cluster'. \"\n",
            "/usr/local/lib/python3.11/dist-packages/torch_geometric/typing.py:113: UserWarning: An issue occurred while importing 'torch-spline-conv'. Disabling its usage. Stacktrace: /usr/local/lib/python3.11/dist-packages/torch_spline_conv/_version_cuda.so: undefined symbol: _ZN3c1017RegisterOperatorsD1Ev\n",
            "  warnings.warn(\n",
            "/usr/local/lib/python3.11/dist-packages/torch_geometric/typing.py:124: UserWarning: An issue occurred while importing 'torch-sparse'. Disabling its usage. Stacktrace: /usr/local/lib/python3.11/dist-packages/torch_sparse/_version_cuda.so: undefined symbol: _ZN3c1017RegisterOperatorsD1Ev\n",
            "  warnings.warn(f\"An issue occurred while importing 'torch-sparse'. \"\n"
          ]
        },
        {
          "output_type": "stream",
          "name": "stdout",
          "text": [
            "Data(x=[500, 2751], edge_index=[2, 53256])\n"
          ]
        },
        {
          "output_type": "stream",
          "name": "stderr",
          "text": [
            "/usr/local/lib/python3.11/dist-packages/torch_geometric/utils/convert.py:278: UserWarning: Creating a tensor from a list of numpy.ndarrays is extremely slow. Please consider converting the list to a single numpy.ndarray with numpy.array() before converting to a tensor. (Triggered internally at /pytorch/torch/csrc/utils/tensor_new.cpp:254.)\n",
            "  data_dict[key] = torch.as_tensor(value)\n"
          ]
        }
      ]
    },
    {
      "cell_type": "code",
      "source": [
        "import torch\n",
        "import torch.nn.functional as F\n",
        "from torch_geometric.nn import GCNConv\n",
        "\n",
        "# GCN Model Definition\n",
        "class GCN(torch.nn.Module):\n",
        "    def __init__(self, in_channels, hidden_channels, out_channels):\n",
        "        super(GCN, self).__init__()\n",
        "        self.conv1 = GCNConv(in_channels, hidden_channels)\n",
        "        self.conv2 = GCNConv(hidden_channels, out_channels)\n",
        "\n",
        "    def forward(self, data):\n",
        "        x, edge_index = data.x, data.edge_index\n",
        "        x = self.conv1(x, edge_index)\n",
        "        x = F.relu(x)\n",
        "        x = self.conv2(x, edge_index)\n",
        "        return x\n",
        "\n",
        "# Device: Use GPU if available\n",
        "device = torch.device('cuda' if torch.cuda.is_available() else 'cpu')\n",
        "\n",
        "# ⚠️ Make sure features are float32, as required by GCNConv\n",
        "data.x = data.x.float()\n",
        "\n",
        "# Move data to device\n",
        "data = data.to(device)\n",
        "\n",
        "# Initialize model\n",
        "model = GCN(in_channels=data.num_node_features, hidden_channels=64, out_channels=32).to(device)\n",
        "optimizer = torch.optim.Adam(model.parameters(), lr=0.01)\n",
        "\n",
        "# Dummy training loop (unsupervised embedding learning)\n",
        "model.train()\n",
        "for epoch in range(1, 101):\n",
        "    optimizer.zero_grad()\n",
        "    out = model(data)\n",
        "    loss = out.norm(2)  # Placeholder loss\n",
        "    loss.backward()\n",
        "    optimizer.step()\n",
        "\n",
        "    if epoch % 10 == 0:\n",
        "        print(f\"📈 Epoch {epoch}, Loss: {loss.item():.4f}\")\n"
      ],
      "metadata": {
        "colab": {
          "base_uri": "https://localhost:8080/"
        },
        "id": "3tEV5oDakjJ-",
        "outputId": "9e6cc1ea-aa50-4912-99e9-4a0752fd5a0c"
      },
      "execution_count": 41,
      "outputs": [
        {
          "output_type": "stream",
          "name": "stdout",
          "text": [
            "📈 Epoch 10, Loss: 0.8302\n",
            "📈 Epoch 20, Loss: 0.3451\n",
            "📈 Epoch 30, Loss: 0.2896\n",
            "📈 Epoch 40, Loss: 0.1434\n",
            "📈 Epoch 50, Loss: 0.0709\n",
            "📈 Epoch 60, Loss: 0.0771\n",
            "📈 Epoch 70, Loss: 0.0687\n",
            "📈 Epoch 80, Loss: 0.0585\n",
            "📈 Epoch 90, Loss: 0.0537\n",
            "📈 Epoch 100, Loss: 0.0371\n"
          ]
        }
      ]
    },
    {
      "cell_type": "code",
      "source": [
        "from sklearn.manifold import TSNE\n",
        "import matplotlib.pyplot as plt\n",
        "\n",
        "# Switch to evaluation mode\n",
        "model.eval()\n",
        "with torch.no_grad():\n",
        "    embeddings = model(data).cpu().numpy()  # Get embeddings as NumPy\n",
        "\n",
        "# Reduce dimensions to 2D with t-SNE\n",
        "tsne = TSNE(n_components=2, perplexity=30, random_state=42)\n",
        "embeddings_2d = tsne.fit_transform(embeddings)\n",
        "\n",
        "# Plot the 2D embeddings\n",
        "plt.figure(figsize=(8, 8))\n",
        "plt.scatter(embeddings_2d[:, 0], embeddings_2d[:, 1], s=10, alpha=0.7)\n",
        "plt.title(\"t-SNE of Gene Embeddings\")\n",
        "plt.xlabel(\"Component 1\")\n",
        "plt.ylabel(\"Component 2\")\n",
        "plt.grid(True)\n",
        "plt.show()\n"
      ],
      "metadata": {
        "colab": {
          "base_uri": "https://localhost:8080/",
          "height": 640
        },
        "id": "UdpZyjiZkuD9",
        "outputId": "6ec82d10-3514-41d8-f3b2-216e92c81a12"
      },
      "execution_count": 42,
      "outputs": [
        {
          "output_type": "display_data",
          "data": {
            "text/plain": [
              "<Figure size 800x800 with 1 Axes>"
            ],
            "image/png": "[encoded data removed]"
          },
          "metadata": {}
        }
      ]
    },
    {
      "cell_type": "code",
      "source": [
        "# Save model weights\n",
        "torch.save(model.state_dict(), \"gcn_model.pth\")\n",
        "print(\"✅ Model saved as gcn_model.pth\")\n",
        "\n",
        "# Save final embeddings\n",
        "import numpy as np\n",
        "np.save(\"gene_embeddings.npy\", embeddings)\n",
        "print(\"✅ Embeddings saved as gene_embeddings.npy\")\n"
      ],
      "metadata": {
        "colab": {
          "base_uri": "https://localhost:8080/"
        },
        "id": "Qc1Y_h-klzNI",
        "outputId": "af3ce561-ee2b-4a52-f621-6b1aa2d263ba"
      },
      "execution_count": 43,
      "outputs": [
        {
          "output_type": "stream",
          "name": "stdout",
          "text": [
            "✅ Model saved as gcn_model.pth\n",
            "✅ Embeddings saved as gene_embeddings.npy\n"
          ]
        }
      ]
    },
    {
      "cell_type": "code",
      "source": [
        "# Choose a sample gene index (e.g., the 10th node in the graph)\n",
        "sample_index = 10  # You can change this to any number < len(data.x)\n",
        "\n",
        "# Get gene name (assuming original order of genes_all_sampled)\n",
        "sample_gene_name = list(G.nodes())[sample_index]\n",
        "\n",
        "# Inference\n",
        "model.eval()\n",
        "with torch.no_grad():\n",
        "    output_embeddings = model(data)\n",
        "\n",
        "# Get the embedding vector for the selected gene\n",
        "embedding_vector = output_embeddings[sample_index].cpu().numpy()\n",
        "\n",
        "print(f\"🧠 Embedding for gene '{sample_gene_name}':\\n{embedding_vector}\")\n",
        "print(f\"🔢 Vector shape: {embedding_vector.shape}\")\n"
      ],
      "metadata": {
        "colab": {
          "base_uri": "https://localhost:8080/"
        },
        "id": "6ehtCTJ6l9Bq",
        "outputId": "f5118b73-3e5c-4abd-80f7-d19e5cd67361"
      },
      "execution_count": 45,
      "outputs": [
        {
          "output_type": "stream",
          "name": "stdout",
          "text": [
            "🧠 Embedding for gene 'EDA':\n",
            "[-4.8842958e-05  1.0966373e-03  7.5163826e-04  9.4593380e-04\n",
            "  1.2342751e-03 -2.4300531e-04 -2.5597928e-04  8.3030848e-04\n",
            "  5.6967201e-05 -5.0849171e-04  2.5470034e-04  9.8220888e-04\n",
            " -2.3810833e-04  4.1258631e-05  4.5957375e-05 -1.7954524e-04\n",
            " -4.8835343e-04 -6.9179293e-04  5.2167231e-04  1.1916803e-03\n",
            "  1.2972583e-04  4.1713865e-04  3.2907230e-04  6.5070105e-04\n",
            " -2.5917328e-04 -2.3910122e-04  7.7421009e-04  5.2663864e-04\n",
            "  2.8178978e-05 -2.0035193e-04  4.4357294e-05  8.7660861e-05]\n",
            "🔢 Vector shape: (32,)\n"
          ]
        }
      ]
    },
    {
      "cell_type": "code",
      "source": [],
      "metadata": {
        "id": "Paj1uOMDmWDi"
      },
      "execution_count": null,
      "outputs": []
    }
  ],
  "metadata": {
    "accelerator": "GPU",
    "colab": {
      "gpuType": "T4",
      "provenance": [],
      "authorship_tag": "ABX9TyMcddqoE/meXZAvW0yUllGx",
      "include_colab_link": true
    },
    "kernelspec": {
      "display_name": "Python 3",
      "name": "python3"
    },
    "language_info": {
      "name": "python"
    }
  },
  "nbformat": 4,
  "nbformat_minor": 0
}